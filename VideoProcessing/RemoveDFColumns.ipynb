{
 "cells": [
  {
   "cell_type": "code",
   "execution_count": 110,
   "metadata": {},
   "outputs": [],
   "source": [
    "import pandas as pd\n",
    "#import tqdm "
   ]
  },
  {
   "cell_type": "code",
   "execution_count": 112,
   "metadata": {},
   "outputs": [],
   "source": [
    "for num in range(0,50):\n",
    "    path = \"D:/CueLearning/DFData/OldDF/faces_train_\"+str(num)+\".pkl\"\n",
    "    HOME = \"D:/CueLearning/DFData/\"\n",
    "    a = pd.read_pickle(path)\n",
    "    a = a.reset_index()\n",
    "    a = a.drop(columns= [\"index\",\"boxes_retina\", \"faces_retina_avg\", \"faces_retina_median\", \"video_height\", \"video_width\", \"video_nb_frames\", \"video_bit_rate\", \"audio_nb_frames\",\"count\", \"faces_max_width\", \"faces_max_height\", \"faces_max_conf\", \"faces_min_conf\", \"fixed_cropping\"])\n",
    "    a[\"faces_retina\"] = a[\"thresh_boxes_retina\"].map(lambda x : len(x))\n",
    "    a.to_pickle(HOME + \"faces_df_\"+str(num)+\".pkl\")"
   ]
  },
  {
   "cell_type": "code",
   "execution_count": 108,
   "metadata": {},
   "outputs": [],
   "source": []
  },
  {
   "cell_type": "code",
   "execution_count": null,
   "metadata": {},
   "outputs": [],
   "source": []
  }
 ],
 "metadata": {
  "kernelspec": {
   "display_name": "Python 3",
   "language": "python",
   "name": "python3"
  },
  "language_info": {
   "codemirror_mode": {
    "name": "ipython",
    "version": 3
   },
   "file_extension": ".py",
   "mimetype": "text/x-python",
   "name": "python",
   "nbconvert_exporter": "python",
   "pygments_lexer": "ipython3",
   "version": "3.6.9"
  }
 },
 "nbformat": 4,
 "nbformat_minor": 4
}
