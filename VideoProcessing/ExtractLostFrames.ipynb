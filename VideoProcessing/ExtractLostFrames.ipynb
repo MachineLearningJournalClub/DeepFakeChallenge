{
 "cells": [
  {
   "cell_type": "code",
   "execution_count": 1,
   "metadata": {},
   "outputs": [],
   "source": [
    "%load_ext autotime"
   ]
  },
  {
   "cell_type": "code",
   "execution_count": 2,
   "metadata": {
    "_cell_guid": "79c7e3d0-c299-4dcb-8224-4455121ee9b0",
    "_uuid": "d629ff2d2480ee46fbb7e2d37f6b5fab8052498a"
   },
   "outputs": [
    {
     "name": "stdout",
     "output_type": "stream",
     "text": [
      "time: 942 ms\n"
     ]
    }
   ],
   "source": [
    "import pandas as pd\n",
    "import numpy as np\n",
    "import glob, shutil\n",
    "import timeit, os, gc\n",
    "import subprocess as sp\n",
    "from tqdm import tqdm\n",
    "from collections import defaultdict\n",
    "from concurrent.futures import ProcessPoolExecutor, ThreadPoolExecutor\n",
    "import json\n",
    "from IPython.display import HTML\n",
    "from base64 import b64encode\n",
    "import cv2\n",
    "\n"
   ]
  },
  {
   "cell_type": "code",
   "execution_count": 3,
   "metadata": {},
   "outputs": [
    {
     "name": "stdout",
     "output_type": "stream",
     "text": [
      "time: 499 ms\n"
     ]
    }
   ],
   "source": [
    "pd.set_option('display.max_colwidth', -1)\n",
    "pd.set_option('display.max_columns', 500)\n",
    "pd.set_option('display.max_rows', 4000)\n",
    "import matplotlib.pyplot as plt\n",
    "%matplotlib inline\n",
    "import seaborn as sns\n",
    "sns.set(font_scale=1.0)"
   ]
  },
  {
   "cell_type": "code",
   "execution_count": 4,
   "metadata": {},
   "outputs": [
    {
     "name": "stdout",
     "output_type": "stream",
     "text": [
      "time: 999 µs\n"
     ]
    }
   ],
   "source": [
    "#um = 1\n",
    "HOME = \"./\"\n",
    "FFMPEG = \"C:/Users/simon/Desktop/Code/ffmpeg/bin\"\n",
    "FFMPEG_PATH = FFMPEG\n",
    "DATA_FOLDER = \"D:/DeepFakeKaggleChallenge/Data\"\n",
    "#D:\\CueLearning\\DFData\\Df4Extracted\n",
    "TMP_FOLDER =  \"D:/DeepFakeKaggleChallenge\"\n",
    "DATA_FOLDER_TRAIN = DATA_FOLDER\n",
    "VIDEOS_FOLDER_TRAIN = DATA_FOLDER_TRAIN + \"/dfdc_train_part_\"\n",
    "IMAGES_FOLDER_TRAIN = TMP_FOLDER + \"/LostImages\"\n",
    "#AUDIOS_FOLDER_TRAIN = TMP_FOLDER + \"/audios\"+str(num)\n",
    "#CROPPED_IMAGES_FOLDER = TMP_FOLDER + \"/cropped_images\"+str(num)\n",
    "EXTRACT_META = True # False\n",
    "EXTRACT_CONTENT = True # False\n",
    "EXTRACT_FACES = True # False\n",
    "FRAME_RATE = 3.0 # Frame per second to extract (max is 30.0)"
   ]
  },
  {
   "cell_type": "code",
   "execution_count": 5,
   "metadata": {},
   "outputs": [
    {
     "name": "stdout",
     "output_type": "stream",
     "text": [
      "time: 61 ms\n"
     ]
    }
   ],
   "source": [
    "def run_command(*popenargs, **kwargs):\n",
    "    closeNULL = 0\n",
    "    try:\n",
    "        from subprocess import DEVNULL\n",
    "        closeNULL = 0\n",
    "    except ImportError:\n",
    "        import os\n",
    "        DEVNULL = open(os.devnull, 'wb')\n",
    "        closeNULL = 1\n",
    "\n",
    "    process = sp.Popen(stdout=sp.PIPE, stderr=DEVNULL, *popenargs, **kwargs)\n",
    "    output, unused_err = process.communicate()\n",
    "    retcode = process.poll()\n",
    "\n",
    "    if closeNULL:\n",
    "        DEVNULL.close()\n",
    "\n",
    "    if retcode:\n",
    "        cmd = kwargs.get(\"args\")\n",
    "        if cmd is None:\n",
    "            cmd = popenargs[0]\n",
    "        error = sp.CalledProcessError(retcode, cmd)\n",
    "        error.output = output\n",
    "        raise error\n",
    "        \n",
    "    return output\n",
    "\n",
    "def ffprobe(filename, options = [\"-show_error\", \"-show_format\", \"-show_streams\", \"-show_programs\", \"-show_chapters\", \"-show_private_data\"]):\n",
    "    ret = {}\n",
    "    command = [FFMPEG_PATH + \"/ffprobe\", \"-v\", \"error\", *options, \"-print_format\", \"json\", filename]\n",
    "    ret = run_command(command)\n",
    "    if ret:\n",
    "        ret = json.loads(ret)\n",
    "    return ret\n",
    "\n",
    "# ffmpeg -i input.mov -r 0.25 output_%04d.png\n",
    "def ffextract_frames(filename, output_folder, rate = 0.25):\n",
    "    command = [FFMPEG_PATH + \"/ffmpeg\", \"-i\", filename, \"-r\", str(rate), \"-y\", output_folder + \"/output_%04d.png\"]\n",
    "    ret = run_command(command)\n",
    "    return ret\n",
    "\n",
    "# ffmpeg -i input-video.mp4 output-audio.mp3\n",
    "def ffextract_audio(filename, output_path):\n",
    "    command = [FFMPEG_PATH + \"/ffmpeg\", \"-i\", filename, \"-vn\", \"-ac\", \"1\", \"-acodec\", \"copy\", \"-y\", output_path]\n",
    "    ret = run_command(command)\n",
    "    return ret"
   ]
  },
  {
   "cell_type": "code",
   "execution_count": 6,
   "metadata": {},
   "outputs": [
    {
     "data": {
      "text/html": [
       "<div>\n",
       "<style scoped>\n",
       "    .dataframe tbody tr th:only-of-type {\n",
       "        vertical-align: middle;\n",
       "    }\n",
       "\n",
       "    .dataframe tbody tr th {\n",
       "        vertical-align: top;\n",
       "    }\n",
       "\n",
       "    .dataframe thead th {\n",
       "        text-align: right;\n",
       "    }\n",
       "</style>\n",
       "<table border=\"1\" class=\"dataframe\">\n",
       "  <thead>\n",
       "    <tr style=\"text-align: right;\">\n",
       "      <th></th>\n",
       "      <th>filename</th>\n",
       "      <th>label</th>\n",
       "      <th>original</th>\n",
       "      <th>block</th>\n",
       "    </tr>\n",
       "  </thead>\n",
       "  <tbody>\n",
       "    <tr>\n",
       "      <th>33671</th>\n",
       "      <td>jwerbdhrmu.mp4</td>\n",
       "      <td>REAL</td>\n",
       "      <td>NaN</td>\n",
       "      <td>21</td>\n",
       "    </tr>\n",
       "    <tr>\n",
       "      <th>60861</th>\n",
       "      <td>ahrqzxkppw.mp4</td>\n",
       "      <td>REAL</td>\n",
       "      <td>NaN</td>\n",
       "      <td>32</td>\n",
       "    </tr>\n",
       "    <tr>\n",
       "      <th>60997</th>\n",
       "      <td>bxtxxxylhv.mp4</td>\n",
       "      <td>REAL</td>\n",
       "      <td>NaN</td>\n",
       "      <td>32</td>\n",
       "    </tr>\n",
       "    <tr>\n",
       "      <th>61370</th>\n",
       "      <td>fvfzksrsbd.mp4</td>\n",
       "      <td>REAL</td>\n",
       "      <td>NaN</td>\n",
       "      <td>32</td>\n",
       "    </tr>\n",
       "    <tr>\n",
       "      <th>61805</th>\n",
       "      <td>kolwvxizei.mp4</td>\n",
       "      <td>REAL</td>\n",
       "      <td>NaN</td>\n",
       "      <td>32</td>\n",
       "    </tr>\n",
       "  </tbody>\n",
       "</table>\n",
       "</div>"
      ],
      "text/plain": [
       "             filename label original  block\n",
       "33671  jwerbdhrmu.mp4  REAL  NaN      21   \n",
       "60861  ahrqzxkppw.mp4  REAL  NaN      32   \n",
       "60997  bxtxxxylhv.mp4  REAL  NaN      32   \n",
       "61370  fvfzksrsbd.mp4  REAL  NaN      32   \n",
       "61805  kolwvxizei.mp4  REAL  NaN      32   "
      ]
     },
     "execution_count": 6,
     "metadata": {},
     "output_type": "execute_result"
    },
    {
     "name": "stdout",
     "output_type": "stream",
     "text": [
      "time: 75 ms\n"
     ]
    }
   ],
   "source": [
    "#train_pd = pd.read_json(VIDEOS_FOLDER_TRAIN + \"/metadata.json\").T.reset_index().rename(columns={\"index\": \"filename\"})\n",
    "train_pd = pd.read_pickle(\"lost_videos_df.pkl\")\n",
    "train_pd.head()"
   ]
  },
  {
   "cell_type": "code",
   "execution_count": null,
   "metadata": {
    "scrolled": true
   },
   "outputs": [
    {
     "name": "stderr",
     "output_type": "stream",
     "text": [
      " 44%|████████████████████████████████▋                                         | 1814/4107 [1:35:09<1:56:26,  3.05s/it]"
     ]
    }
   ],
   "source": [
    "#AUDIO_FORMAT = \"wav\" # \"wav\"\n",
    "videos_folder = VIDEOS_FOLDER_TRAIN\n",
    "images_folder_path = IMAGES_FOLDER_TRAIN\n",
    "#audios_folder_path = AUDIOS_FOLDER_TRAIN\n",
    "if EXTRACT_CONTENT == True:\n",
    "    # 1h20min for chunk#0 (11GB)\n",
    "    # Extract some images + audio track\n",
    "    for idx, row in tqdm(train_pd.iterrows(), total=train_pd.shape[0]):\n",
    "        try:\n",
    "            video_path = videos_folder + str(row[\"block\"]) + \"/\" + row[\"filename\"]\n",
    "            images_path = images_folder_path + \"/\" + row[\"filename\"][:-4]\n",
    "            #audio_path = audios_folder_path + \"/\" + row[\"filename\"][:-4]\n",
    "            # Extract images\n",
    "            if not os.path.exists(images_path): os.makedirs(images_path)\n",
    "            ret = ffextract_frames(video_path, images_path, rate = FRAME_RATE)\n",
    "            # Extract audio\n",
    "            #if not os.path.exists(audio_path): os.makedirs(audio_path)\n",
    "            #ret = ffextract_audio(video_path, audio_path + \"/audio.\" + AUDIO_FORMAT)\n",
    "        except:\n",
    "            print(\"Cannot extract frames for:\" + row[\"filename\"])"
   ]
  },
  {
   "cell_type": "code",
   "execution_count": null,
   "metadata": {},
   "outputs": [],
   "source": []
  },
  {
   "cell_type": "code",
   "execution_count": null,
   "metadata": {},
   "outputs": [],
   "source": []
  },
  {
   "cell_type": "markdown",
   "metadata": {},
   "source": []
  }
 ],
 "metadata": {
  "kernelspec": {
   "display_name": "Python 3",
   "language": "python",
   "name": "python3"
  },
  "language_info": {
   "codemirror_mode": {
    "name": "ipython",
    "version": 3
   },
   "file_extension": ".py",
   "mimetype": "text/x-python",
   "name": "python",
   "nbconvert_exporter": "python",
   "pygments_lexer": "ipython3",
   "version": "3.6.10"
  }
 },
 "nbformat": 4,
 "nbformat_minor": 1
}
