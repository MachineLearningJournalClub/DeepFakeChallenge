{
 "cells": [
  {
   "cell_type": "code",
   "execution_count": 3,
   "metadata": {},
   "outputs": [],
   "source": [
    "#Different libraries that we need \n",
    "\n",
    "import numpy as np # numerical python for operations on arrays, matrix\n",
    "import pandas as pd # very efficient for handling databases \n",
    "import matplotlib.pyplot as plt # for plots \n",
    "import glob # for accessing directories (where the data are)\n",
    "from scipy import stats # scientific python - for special functions and probability densities \n",
    "import re # for regular expressions \n",
    "from tqdm import tqdm_notebook as tqdm \n",
    "import os \n",
    "\n",
    "# in order to plot inline, Jupyter Notebook only \n",
    "%matplotlib inline"
   ]
  },
  {
   "cell_type": "code",
   "execution_count": 4,
   "metadata": {},
   "outputs": [],
   "source": [
    "# Import all the .json files \n",
    "DataFolders = []\n",
    "DataFolders = glob.glob('D:/DeepFakeKaggleChallenge/Data/dfdc*')"
   ]
  },
  {
   "cell_type": "code",
   "execution_count": 5,
   "metadata": {},
   "outputs": [],
   "source": [
    "MetaFiles = [glob.glob(DataFolders[x] +'/*.json') for x in range(len(DataFolders))]\n",
    "MetaFiles = [MetaFiles[x][0] for x in range(len(MetaFiles))]\n",
    "suffix = [DataFolders[x][-2:] for x in range(len(DataFolders))]\n",
    "suffix = [re.sub('_', '', suffix[x]) for x in range(len(suffix))]\n",
    "MetaFilesNames = [MetaFiles[x][-13:-5] + suffix[x] for x in range(len(MetaFiles))]"
   ]
  },
  {
   "cell_type": "code",
   "execution_count": 60,
   "metadata": {},
   "outputs": [
    {
     "name": "stderr",
     "output_type": "stream",
     "text": [
      "c:\\users\\simon\\anaconda3\\envs\\dfchallenge\\lib\\site-packages\\ipykernel_launcher.py:2: TqdmDeprecationWarning: This function will be removed in tqdm==5.0.0\n",
      "Please use `tqdm.notebook.tqdm` instead of `tqdm.tqdm_notebook`\n",
      "  \n"
     ]
    },
    {
     "data": {
      "application/vnd.jupyter.widget-view+json": {
       "model_id": "cb82ceb03cb649908d529a2c88bc4f3a",
       "version_major": 2,
       "version_minor": 0
      },
      "text/plain": [
       "HBox(children=(FloatProgress(value=0.0, max=50.0), HTML(value='')))"
      ]
     },
     "metadata": {},
     "output_type": "display_data"
    },
    {
     "name": "stdout",
     "output_type": "stream",
     "text": [
      "\n"
     ]
    }
   ],
   "source": [
    "MetaData = []\n",
    "for i in tqdm(range(len(MetaFiles))):\n",
    "    pivot = pd.read_json(MetaFiles[i], orient=\"index\").reset_index().rename(columns = {'index':'name'})\n",
    "    pivot[\"block\"] = MetaFilesNames[i][-2:]\n",
    "    pivot[\"block\"] = pivot[\"block\"].map(lambda x : x.lstrip(\"a\"))\n",
    "    pivot[\"block\"] = pivot[\"block\"].map(lambda x : int(x))\n",
    "    MetaData.append(pivot)"
   ]
  },
  {
   "cell_type": "code",
   "execution_count": 79,
   "metadata": {},
   "outputs": [],
   "source": [
    "MetaDataAll = pd.concat(MetaData, ignore_index=True)\n",
    "MetaDataAll = MetaDataAll.drop(columns= [\"split\"])"
   ]
  },
  {
   "cell_type": "markdown",
   "metadata": {},
   "source": [
    "Nearly 84% of videos are fake"
   ]
  },
  {
   "cell_type": "code",
   "execution_count": 80,
   "metadata": {},
   "outputs": [
    {
     "data": {
      "text/plain": [
       "FAKE    0.83925\n",
       "REAL    0.16075\n",
       "Name: label, dtype: float64"
      ]
     },
     "execution_count": 80,
     "metadata": {},
     "output_type": "execute_result"
    }
   ],
   "source": [
    "MetaDataAll.label.value_counts(normalize=True)"
   ]
  },
  {
   "cell_type": "markdown",
   "metadata": {},
   "source": [
    "Meaning: some original videos are used to generate more than one fake video"
   ]
  },
  {
   "cell_type": "code",
   "execution_count": 81,
   "metadata": {},
   "outputs": [
    {
     "data": {
      "text/plain": [
       "tfyyefqpfs.mp4    40\n",
       "rqsotnryhj.mp4    39\n",
       "ypgayhhaxx.mp4    39\n",
       "zgdtjzfrad.mp4    39\n",
       "ivctdtckcn.mp4    38\n",
       "Name: original, dtype: int64"
      ]
     },
     "execution_count": 81,
     "metadata": {},
     "output_type": "execute_result"
    }
   ],
   "source": [
    "MetaDataAll.original.value_counts().head()"
   ]
  },
  {
   "cell_type": "code",
   "execution_count": 82,
   "metadata": {},
   "outputs": [
    {
     "data": {
      "image/png": "[encoded data removed]",
      "text/plain": [
       "<Figure size 1080x360 with 1 Axes>"
      ]
     },
     "metadata": {
      "needs_background": "light"
     },
     "output_type": "display_data"
    }
   ],
   "source": [
    "MetaDataAll.groupby('label')['label'].count().plot(figsize=(15, 5), kind='bar', title='Distribution of Labels in the Training Set')\n",
    "plt.show()"
   ]
  },
  {
   "cell_type": "markdown",
   "metadata": {},
   "source": [
    "## Recovering \"Lost\" Frames\n",
    "Let's take a look at the number of videos first"
   ]
  },
  {
   "cell_type": "code",
   "execution_count": 83,
   "metadata": {},
   "outputs": [
    {
     "name": "stdout",
     "output_type": "stream",
     "text": [
      "[INFO] Number of Videos: 119154\n",
      "[INFO] Lower limit for number of frames is: 3812928\n"
     ]
    }
   ],
   "source": [
    "print(\"[INFO] Number of Videos: \"+ str(MetaDataAll.shape[0]))\n",
    "print(\"[INFO] Lower limit for number of frames is: \"+ str(MetaDataAll.shape[0] * 32) )"
   ]
  },
  {
   "cell_type": "code",
   "execution_count": 84,
   "metadata": {},
   "outputs": [],
   "source": [
    "#Loading all faces dataframe \n",
    "AllFaces = pd.read_pickle(\"all_faces_df.pkl\")"
   ]
  },
  {
   "cell_type": "code",
   "execution_count": 85,
   "metadata": {},
   "outputs": [
    {
     "name": "stdout",
     "output_type": "stream",
     "text": [
      "[INFO] Fraction of lost frames: 0.015\n",
      "[INFO] Number of lost frames: 3812928\n"
     ]
    }
   ],
   "source": [
    "print(\"[INFO] Fraction of lost frames:\", np.round(1 - AllFaces.shape[0] / (MetaDataAll.shape[0] * 32), decimals= 3))\n",
    "print(\"[INFO] Number of lost frames:\", np.round((MetaDataAll.shape[0] * 32),decimals= 3))"
   ]
  },
  {
   "cell_type": "code",
   "execution_count": 86,
   "metadata": {},
   "outputs": [
    {
     "data": {
      "text/plain": [
       "19154"
      ]
     },
     "execution_count": 86,
     "metadata": {},
     "output_type": "execute_result"
    }
   ],
   "source": [
    "MetaDataAll[MetaDataAll[\"label\"] == \"REAL\"].shape[0]"
   ]
  },
  {
   "cell_type": "code",
   "execution_count": 87,
   "metadata": {},
   "outputs": [],
   "source": [
    "a = AllFaces.copy()\n",
    "a = a.drop_duplicates(subset = [\"filename\"])"
   ]
  },
  {
   "cell_type": "code",
   "execution_count": 88,
   "metadata": {},
   "outputs": [
    {
     "data": {
      "text/plain": [
       "0.034457554557794715"
      ]
     },
     "execution_count": 88,
     "metadata": {},
     "output_type": "execute_result"
    }
   ],
   "source": [
    "(MetaDataAll[MetaDataAll[\"label\"] == \"REAL\"].shape[0] - a[(a[\"label\"] == \"REAL\")].shape[0])/MetaDataAll[MetaDataAll[\"label\"] == \"REAL\"].shape[0]"
   ]
  },
  {
   "cell_type": "code",
   "execution_count": 110,
   "metadata": {},
   "outputs": [
    {
     "data": {
      "text/html": [
       "<div>\n",
       "<style scoped>\n",
       "    .dataframe tbody tr th:only-of-type {\n",
       "        vertical-align: middle;\n",
       "    }\n",
       "\n",
       "    .dataframe tbody tr th {\n",
       "        vertical-align: top;\n",
       "    }\n",
       "\n",
       "    .dataframe thead th {\n",
       "        text-align: right;\n",
       "    }\n",
       "</style>\n",
       "<table border=\"1\" class=\"dataframe\">\n",
       "  <thead>\n",
       "    <tr style=\"text-align: right;\">\n",
       "      <th></th>\n",
       "      <th>filename</th>\n",
       "      <th>label</th>\n",
       "      <th>original</th>\n",
       "      <th>block</th>\n",
       "    </tr>\n",
       "  </thead>\n",
       "  <tbody>\n",
       "    <tr>\n",
       "      <th>33671</th>\n",
       "      <td>jwerbdhrmu.mp4</td>\n",
       "      <td>REAL</td>\n",
       "      <td>NaN</td>\n",
       "      <td>21</td>\n",
       "    </tr>\n",
       "    <tr>\n",
       "      <th>60861</th>\n",
       "      <td>ahrqzxkppw.mp4</td>\n",
       "      <td>REAL</td>\n",
       "      <td>NaN</td>\n",
       "      <td>32</td>\n",
       "    </tr>\n",
       "    <tr>\n",
       "      <th>60997</th>\n",
       "      <td>bxtxxxylhv.mp4</td>\n",
       "      <td>REAL</td>\n",
       "      <td>NaN</td>\n",
       "      <td>32</td>\n",
       "    </tr>\n",
       "    <tr>\n",
       "      <th>61370</th>\n",
       "      <td>fvfzksrsbd.mp4</td>\n",
       "      <td>REAL</td>\n",
       "      <td>NaN</td>\n",
       "      <td>32</td>\n",
       "    </tr>\n",
       "    <tr>\n",
       "      <th>61805</th>\n",
       "      <td>kolwvxizei.mp4</td>\n",
       "      <td>REAL</td>\n",
       "      <td>NaN</td>\n",
       "      <td>32</td>\n",
       "    </tr>\n",
       "  </tbody>\n",
       "</table>\n",
       "</div>"
      ],
      "text/plain": [
       "             filename label original  block\n",
       "33671  jwerbdhrmu.mp4  REAL      NaN     21\n",
       "60861  ahrqzxkppw.mp4  REAL      NaN     32\n",
       "60997  bxtxxxylhv.mp4  REAL      NaN     32\n",
       "61370  fvfzksrsbd.mp4  REAL      NaN     32\n",
       "61805  kolwvxizei.mp4  REAL      NaN     32"
      ]
     },
     "execution_count": 110,
     "metadata": {},
     "output_type": "execute_result"
    }
   ],
   "source": [
    "LostReals = MetaDataAll[(~MetaDataAll.name.isin(a.filename))& (MetaDataAll.label == \"REAL\")].copy()\n",
    "LostReals = LostReals.rename(columns = {\"name\": \"filename\"})\n",
    "#LostReals = LostReals.drop(columns = [\"name\"])\n",
    "#LostReals.drop(columns = [\"split\"])\n",
    "#LostReals.to_pickle(\"lost_reals_df.pkl\")\n",
    "LostReals.head()"
   ]
  },
  {
   "cell_type": "code",
   "execution_count": 108,
   "metadata": {},
   "outputs": [
    {
     "data": {
      "text/html": [
       "<div>\n",
       "<style scoped>\n",
       "    .dataframe tbody tr th:only-of-type {\n",
       "        vertical-align: middle;\n",
       "    }\n",
       "\n",
       "    .dataframe tbody tr th {\n",
       "        vertical-align: top;\n",
       "    }\n",
       "\n",
       "    .dataframe thead th {\n",
       "        text-align: right;\n",
       "    }\n",
       "</style>\n",
       "<table border=\"1\" class=\"dataframe\">\n",
       "  <thead>\n",
       "    <tr style=\"text-align: right;\">\n",
       "      <th></th>\n",
       "      <th>filename</th>\n",
       "      <th>label</th>\n",
       "      <th>original</th>\n",
       "      <th>block</th>\n",
       "    </tr>\n",
       "  </thead>\n",
       "  <tbody>\n",
       "    <tr>\n",
       "      <th>32915</th>\n",
       "      <td>bcqrunnwhl.mp4</td>\n",
       "      <td>FAKE</td>\n",
       "      <td>jwerbdhrmu.mp4</td>\n",
       "      <td>21</td>\n",
       "    </tr>\n",
       "    <tr>\n",
       "      <th>33198</th>\n",
       "      <td>eibdzfaaif.mp4</td>\n",
       "      <td>FAKE</td>\n",
       "      <td>jwerbdhrmu.mp4</td>\n",
       "      <td>21</td>\n",
       "    </tr>\n",
       "    <tr>\n",
       "      <th>34286</th>\n",
       "      <td>qxuivoxvhl.mp4</td>\n",
       "      <td>FAKE</td>\n",
       "      <td>jwerbdhrmu.mp4</td>\n",
       "      <td>21</td>\n",
       "    </tr>\n",
       "    <tr>\n",
       "      <th>34313</th>\n",
       "      <td>rfrjmsfjcz.mp4</td>\n",
       "      <td>FAKE</td>\n",
       "      <td>jwerbdhrmu.mp4</td>\n",
       "      <td>21</td>\n",
       "    </tr>\n",
       "    <tr>\n",
       "      <th>34353</th>\n",
       "      <td>rtneymsway.mp4</td>\n",
       "      <td>FAKE</td>\n",
       "      <td>jwerbdhrmu.mp4</td>\n",
       "      <td>21</td>\n",
       "    </tr>\n",
       "  </tbody>\n",
       "</table>\n",
       "</div>"
      ],
      "text/plain": [
       "             filename label        original  block\n",
       "32915  bcqrunnwhl.mp4  FAKE  jwerbdhrmu.mp4     21\n",
       "33198  eibdzfaaif.mp4  FAKE  jwerbdhrmu.mp4     21\n",
       "34286  qxuivoxvhl.mp4  FAKE  jwerbdhrmu.mp4     21\n",
       "34313  rfrjmsfjcz.mp4  FAKE  jwerbdhrmu.mp4     21\n",
       "34353  rtneymsway.mp4  FAKE  jwerbdhrmu.mp4     21"
      ]
     },
     "execution_count": 108,
     "metadata": {},
     "output_type": "execute_result"
    }
   ],
   "source": [
    "LostFakes = MetaDataAll[MetaDataAll.original.isin(LostReals.filename)].copy()\n",
    "LostFakes = LostFakes.rename(columns = {\"name\": \"filename\"})\n",
    "LostFakes.head()"
   ]
  },
  {
   "cell_type": "code",
   "execution_count": 114,
   "metadata": {},
   "outputs": [],
   "source": [
    "LostVideos = pd.concat([LostReals, LostFakes])\n",
    "LostVideos.to_pickle(\"lost_videos_df.pkl\")"
   ]
  }
 ],
 "metadata": {
  "kernelspec": {
   "display_name": "Python 3",
   "language": "python",
   "name": "python3"
  },
  "language_info": {
   "codemirror_mode": {
    "name": "ipython",
    "version": 3
   },
   "file_extension": ".py",
   "mimetype": "text/x-python",
   "name": "python",
   "nbconvert_exporter": "python",
   "pygments_lexer": "ipython3",
   "version": "3.6.10"
  }
 },
 "nbformat": 4,
 "nbformat_minor": 2
}
