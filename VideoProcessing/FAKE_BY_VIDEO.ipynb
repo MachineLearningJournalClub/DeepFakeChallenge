{
 "cells": [
  {
   "cell_type": "markdown",
   "metadata": {},
   "source": [
    "Given the Following [post](https://www.kaggle.com/c/deepfake-detection-challenge/discussion/124417#722639), I decided to compare each extracted frame, since in some videos not all frames are faked (let's check it out)"
   ]
  },
  {
   "cell_type": "code",
   "execution_count": 1,
   "metadata": {},
   "outputs": [],
   "source": [
    "import pandas as pd\n",
    "import numpy as np\n",
    "import glob, shutil\n",
    "import timeit, os, gc\n",
    "import subprocess as sp\n",
    "from tqdm import tqdm\n",
    "from collections import defaultdict\n",
    "from concurrent.futures import ProcessPoolExecutor, ThreadPoolExecutor\n",
    "import json\n",
    "from IPython.display import HTML\n",
    "from base64 import b64encode\n",
    "import cv2\n",
    "\n"
   ]
  },
  {
   "cell_type": "code",
   "execution_count": 2,
   "metadata": {},
   "outputs": [],
   "source": [
    "pd.set_option('display.max_colwidth', -1)\n",
    "pd.set_option('display.max_columns', 500)\n",
    "pd.set_option('display.max_rows', 4000)\n",
    "import matplotlib.pyplot as plt\n",
    "%matplotlib inline\n",
    "import seaborn as sns\n",
    "sns.set(font_scale=1.0)"
   ]
  },
  {
   "cell_type": "code",
   "execution_count": 6,
   "metadata": {},
   "outputs": [
    {
     "name": "stderr",
     "output_type": "stream",
     "text": [
      "100%|████████████████████████████████████| 70048/70048 [19:38<00:00, 59.45it/s]\n"
     ]
    },
    {
     "name": "stdout",
     "output_type": "stream",
     "text": [
      "[START] ###########Block37###########\n",
      "0\n",
      "0\n",
      "[END] ###########Block37###########\n"
     ]
    },
    {
     "name": "stderr",
     "output_type": "stream",
     "text": [
      "100%|████████████████████████████████████| 64560/64560 [35:28<00:00, 30.33it/s]\n"
     ]
    },
    {
     "name": "stdout",
     "output_type": "stream",
     "text": [
      "[START] ###########Block38###########\n",
      "0\n",
      "0\n",
      "[END] ###########Block38###########\n"
     ]
    },
    {
     "name": "stderr",
     "output_type": "stream",
     "text": [
      "100%|████████████████████████████████████| 68419/68419 [44:43<00:00, 25.49it/s]\n"
     ]
    },
    {
     "name": "stdout",
     "output_type": "stream",
     "text": [
      "[START] ###########Block39###########\n",
      "0\n",
      "0\n",
      "[END] ###########Block39###########\n"
     ]
    },
    {
     "name": "stderr",
     "output_type": "stream",
     "text": [
      "100%|████████████████████████████████████| 62869/62869 [43:11<00:00, 24.26it/s]\n"
     ]
    },
    {
     "name": "stdout",
     "output_type": "stream",
     "text": [
      "[START] ###########Block40###########\n",
      "0\n",
      "0\n",
      "[END] ###########Block40###########\n"
     ]
    },
    {
     "name": "stderr",
     "output_type": "stream",
     "text": [
      "100%|████████████████████████████████████| 57933/57933 [29:07<00:00, 33.16it/s]\n"
     ]
    },
    {
     "name": "stdout",
     "output_type": "stream",
     "text": [
      "[START] ###########Block41###########\n",
      "0\n",
      "0\n",
      "[END] ###########Block41###########\n"
     ]
    },
    {
     "name": "stderr",
     "output_type": "stream",
     "text": [
      "100%|████████████████████████████████████| 62304/62304 [22:17<00:00, 46.57it/s]\n"
     ]
    },
    {
     "name": "stdout",
     "output_type": "stream",
     "text": [
      "[START] ###########Block42###########\n",
      "0\n",
      "0\n",
      "[END] ###########Block42###########\n"
     ]
    },
    {
     "name": "stderr",
     "output_type": "stream",
     "text": [
      "100%|████████████████████████████████████| 68064/68064 [38:34<00:00, 29.40it/s]\n"
     ]
    },
    {
     "name": "stdout",
     "output_type": "stream",
     "text": [
      "[START] ###########Block43###########\n",
      "0\n",
      "0\n",
      "[END] ###########Block43###########\n"
     ]
    },
    {
     "name": "stderr",
     "output_type": "stream",
     "text": [
      "100%|██████████████████████████████████| 71352/71352 [1:29:39<00:00, 13.26it/s]\n"
     ]
    },
    {
     "name": "stdout",
     "output_type": "stream",
     "text": [
      "[START] ###########Block44###########\n",
      "0\n",
      "0\n",
      "[END] ###########Block44###########\n"
     ]
    },
    {
     "name": "stderr",
     "output_type": "stream",
     "text": [
      "100%|████████████████████████████████████| 61222/61222 [45:28<00:00, 22.44it/s]\n"
     ]
    },
    {
     "name": "stdout",
     "output_type": "stream",
     "text": [
      "[START] ###########Block45###########\n",
      "0\n",
      "0\n",
      "[END] ###########Block45###########\n"
     ]
    },
    {
     "name": "stderr",
     "output_type": "stream",
     "text": [
      "100%|████████████████████████████████████| 57961/57961 [46:51<00:00, 20.62it/s]\n"
     ]
    },
    {
     "name": "stdout",
     "output_type": "stream",
     "text": [
      "[START] ###########Block46###########\n",
      "0\n",
      "0\n",
      "[END] ###########Block46###########\n"
     ]
    },
    {
     "name": "stderr",
     "output_type": "stream",
     "text": [
      "100%|████████████████████████████████████| 63049/63049 [32:11<00:00, 32.65it/s]\n"
     ]
    },
    {
     "name": "stdout",
     "output_type": "stream",
     "text": [
      "[START] ###########Block47###########\n",
      "0\n",
      "0\n",
      "[END] ###########Block47###########\n"
     ]
    },
    {
     "name": "stderr",
     "output_type": "stream",
     "text": [
      "100%|████████████████████████████████████| 65223/65223 [31:43<00:00, 34.26it/s]\n"
     ]
    },
    {
     "name": "stdout",
     "output_type": "stream",
     "text": [
      "[START] ###########Block48###########\n",
      "0\n",
      "0\n",
      "[END] ###########Block48###########\n"
     ]
    }
   ],
   "source": [
    "for num in range(37, 49):\n",
    "    #num = 8\n",
    "    TMP_FOLDER =  \"D:/CueLearning/DFData\"\n",
    "    TMP_FOLDER1 =  \"D:/CueLearning/DFData/CroppedImages\"\n",
    "\n",
    "    CROPPED_IMAGES_FOLDER = TMP_FOLDER1 + \"/cropped_images\"+str(num)\n",
    "    CROPPED_DF = TMP_FOLDER + \"/faces_df_\"+str(num)+\".pkl\"\n",
    "\n",
    "    cropped_df = pd.read_pickle(CROPPED_DF)\n",
    "    cropped_df[\"fake_by_video_face0\"] = True\n",
    "    cropped_df[\"fake_by_video_face1\"] = True\n",
    "\n",
    "    cropped_df.loc[cropped_df[\"label\"] == \"REAL\",\"fake_by_video_face0\"]  = np.nan\n",
    "    cropped_df.loc[cropped_df[\"label\"] == \"REAL\",\"fake_by_video_face1\"]  = np.nan\n",
    "\n",
    "    cropped_images_folder_path = CROPPED_IMAGES_FOLDER\n",
    "    prova1 = cropped_df.copy()\n",
    "    df_fake= prova1[prova1[\"label\"]== \"FAKE\"]\n",
    "\n",
    "    # Se immagine reale == immagine fake -->fake_by_videoface = 0 (quindi stessa label se fosse reale)\n",
    "    for idx, row in tqdm(df_fake.iterrows(), total=df_fake.shape[0]):\n",
    "        for i in range(len(row[\"thresh_boxes_retina\"])):\n",
    "            if i == 0 :\n",
    "\n",
    "                cropped_images_path_real = cropped_images_folder_path  + \"/\" + row[\"original\"][:-4] + \"/\" + row[\"image\"] + \"_faces\"+str(i)+\".png\"\n",
    "                img_real = cv2.imread(cropped_images_path_real)\n",
    "\n",
    "                cropped_images_path_fake = cropped_images_folder_path  + \"/\" + row[\"filename\"][:-4] + \"/\" + row[\"image\"] + \"_faces\"+str(i)+\".png\"\n",
    "                img_fake = cv2.imread(cropped_images_path_fake)\n",
    "\n",
    "                if (img_real == img_fake).all():\n",
    "                    prova1.loc[idx, \"fake_by_video_face0\"] = 0\n",
    "\n",
    "            else:\n",
    "\n",
    "                cropped_images_path_real = cropped_images_folder_path  + \"/\" + row[\"original\"][:-4] + \"/\" + row[\"image\"] + \"_faces\"+str(i)+\".png\"\n",
    "                img_real = cv2.imread(cropped_images_path_real)\n",
    "\n",
    "                cropped_images_path_fake = cropped_images_folder_path  + \"/\" + row[\"filename\"][:-4] + \"/\" + row[\"image\"] + \"_faces\"+str(i)+\".png\"\n",
    "                img_fake = cv2.imread(cropped_images_path_fake)\n",
    "\n",
    "                if (img_real == img_fake).all():\n",
    "                    prova1.loc[idx, \"fake_by_video_face1\"] = 0\n",
    "\n",
    "    print(\"[START] ###########\" \"Block\" + str(num) +\"###########\")\n",
    "    print(prova1[(prova1[\"label\"]== \"FAKE\") &(prova1[\"fake_by_video_face0\"] == 0 )].shape[0])\n",
    "    print(prova1[ (prova1[\"label\"]== \"FAKE\") & (prova1[\"fake_by_video_face1\"] == 0 )].shape[0])\n",
    "    print(\"[END] ###########\" \"Block\" + str(num) +\"###########\")\n",
    "    \n",
    "    prova1.to_pickle(TMP_FOLDER + \"/CompleteDF/complete_df_\"+str(num)+\".pkl\")"
   ]
  },
  {
   "cell_type": "code",
   "execution_count": null,
   "metadata": {},
   "outputs": [],
   "source": []
  },
  {
   "cell_type": "code",
   "execution_count": null,
   "metadata": {},
   "outputs": [],
   "source": []
  },
  {
   "cell_type": "code",
   "execution_count": 4,
   "metadata": {},
   "outputs": [],
   "source": [
    "#prova1.to_pickle(TMP_FOLDER + \"/CompleteDF/complete_df_\"+str(num)+\".pkl\")"
   ]
  },
  {
   "cell_type": "code",
   "execution_count": null,
   "metadata": {},
   "outputs": [],
   "source": []
  },
  {
   "cell_type": "code",
   "execution_count": null,
   "metadata": {},
   "outputs": [],
   "source": []
  },
  {
   "cell_type": "code",
   "execution_count": null,
   "metadata": {},
   "outputs": [],
   "source": []
  },
  {
   "cell_type": "code",
   "execution_count": null,
   "metadata": {},
   "outputs": [],
   "source": []
  }
 ],
 "metadata": {
  "kernelspec": {
   "display_name": "Python 3",
   "language": "python",
   "name": "python3"
  },
  "language_info": {
   "codemirror_mode": {
    "name": "ipython",
    "version": 3
   },
   "file_extension": ".py",
   "mimetype": "text/x-python",
   "name": "python",
   "nbconvert_exporter": "python",
   "pygments_lexer": "ipython3",
   "version": "3.6.9"
  }
 },
 "nbformat": 4,
 "nbformat_minor": 4
}
