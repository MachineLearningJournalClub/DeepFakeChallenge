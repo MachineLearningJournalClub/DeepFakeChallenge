{
 "cells": [
  {
   "cell_type": "code",
   "execution_count": 47,
   "metadata": {},
   "outputs": [],
   "source": [
    "import pandas as pd\n",
    "import glob\n",
    "import numpy as np\n",
    "from tqdm import tqdm"
   ]
  },
  {
   "cell_type": "code",
   "execution_count": 60,
   "metadata": {},
   "outputs": [],
   "source": [
    "path = r'D:/CueLearning/DFData' # use your path\n",
    "all_files = glob.glob(path + \"/*.pkl\")\n",
    "\n",
    "li = []\n",
    "\n",
    "for filename in all_files:\n",
    "    df = pd.read_pickle(filename)\n",
    "    df[\"block\"] = filename[-6:-4]\n",
    "    li.append(df)\n",
    "\n",
    "frame = pd.concat(li, axis=0, ignore_index=True)"
   ]
  },
  {
   "cell_type": "code",
   "execution_count": 61,
   "metadata": {},
   "outputs": [],
   "source": [
    "frame[\"block\"] = frame[\"block\"].map(lambda x : x.lstrip(\"_\"))\n",
    "frame[\"block\"] = frame[\"block\"].map(lambda x : int(x))\n",
    "#frame[\"faces_retina\"] = frame[\"thresh_boxes_retina\"].map(lambda x : len(x))"
   ]
  },
  {
   "cell_type": "code",
   "execution_count": 62,
   "metadata": {},
   "outputs": [],
   "source": [
    "\"\"\"for i in tqdm(range(0,frame[(frame[\"label\"] == \"REAL\")].filename.unique().shape[0])):\n",
    "    pivot = frame[(frame[\"label\"] == \"REAL\")].filename.unique()[i]\n",
    "    frame[(frame[\"label\"] == \"REAL\")].filename.unique()\n",
    "    a = frame[(frame[\"label\"] == \"FAKE\") & (frame[\"original\"] == pivot)]\n",
    "    b = np.unique(a.block.values).size\n",
    "    if b != 1 :\n",
    "        print(i, b)\n",
    "        print(\"########\")\n",
    "        \n",
    "        \"\"\";"
   ]
  },
  {
   "cell_type": "code",
   "execution_count": 63,
   "metadata": {},
   "outputs": [],
   "source": [
    "#pivot= frame[(frame[\"label\"] == \"REAL\")].filename.unique()[0]"
   ]
  },
  {
   "cell_type": "code",
   "execution_count": 64,
   "metadata": {},
   "outputs": [],
   "source": [
    "#frame[(frame[\"image\"] == \"output_0001.png\") & (frame[\"filename\"] == pivot)]"
   ]
  },
  {
   "cell_type": "code",
   "execution_count": 65,
   "metadata": {},
   "outputs": [],
   "source": [
    "#frame[(frame[\"label\"] == \"FAKE\") & (frame[\"original\"] == pivot)]"
   ]
  },
  {
   "cell_type": "code",
   "execution_count": 66,
   "metadata": {},
   "outputs": [
    {
     "data": {
      "text/html": [
       "<div>\n",
       "<style scoped>\n",
       "    .dataframe tbody tr th:only-of-type {\n",
       "        vertical-align: middle;\n",
       "    }\n",
       "\n",
       "    .dataframe tbody tr th {\n",
       "        vertical-align: top;\n",
       "    }\n",
       "\n",
       "    .dataframe thead th {\n",
       "        text-align: right;\n",
       "    }\n",
       "</style>\n",
       "<table border=\"1\" class=\"dataframe\">\n",
       "  <thead>\n",
       "    <tr style=\"text-align: right;\">\n",
       "      <th></th>\n",
       "      <th>filename</th>\n",
       "      <th>image</th>\n",
       "      <th>faces_retina</th>\n",
       "      <th>label</th>\n",
       "      <th>original</th>\n",
       "      <th>thresh_boxes_retina</th>\n",
       "      <th>block</th>\n",
       "    </tr>\n",
       "  </thead>\n",
       "  <tbody>\n",
       "    <tr>\n",
       "      <th>0</th>\n",
       "      <td>vpmyeepbep.mp4</td>\n",
       "      <td>output_0001.png</td>\n",
       "      <td>1</td>\n",
       "      <td>REAL</td>\n",
       "      <td>NaN</td>\n",
       "      <td>[((667, 600, 767, 751), 0.9984279870986938)]</td>\n",
       "      <td>0</td>\n",
       "    </tr>\n",
       "    <tr>\n",
       "      <th>1</th>\n",
       "      <td>vpmyeepbep.mp4</td>\n",
       "      <td>output_0002.png</td>\n",
       "      <td>1</td>\n",
       "      <td>REAL</td>\n",
       "      <td>NaN</td>\n",
       "      <td>[((667, 600, 767, 751), 0.9984278678894043)]</td>\n",
       "      <td>0</td>\n",
       "    </tr>\n",
       "    <tr>\n",
       "      <th>2</th>\n",
       "      <td>vpmyeepbep.mp4</td>\n",
       "      <td>output_0003.png</td>\n",
       "      <td>1</td>\n",
       "      <td>REAL</td>\n",
       "      <td>NaN</td>\n",
       "      <td>[((678, 600, 776, 749), 0.9989476799964905)]</td>\n",
       "      <td>0</td>\n",
       "    </tr>\n",
       "    <tr>\n",
       "      <th>3</th>\n",
       "      <td>vpmyeepbep.mp4</td>\n",
       "      <td>output_0004.png</td>\n",
       "      <td>1</td>\n",
       "      <td>REAL</td>\n",
       "      <td>NaN</td>\n",
       "      <td>[((678, 601, 774, 757), 0.9987552165985107)]</td>\n",
       "      <td>0</td>\n",
       "    </tr>\n",
       "    <tr>\n",
       "      <th>4</th>\n",
       "      <td>vpmyeepbep.mp4</td>\n",
       "      <td>output_0005.png</td>\n",
       "      <td>1</td>\n",
       "      <td>REAL</td>\n",
       "      <td>NaN</td>\n",
       "      <td>[((659, 607, 759, 754), 0.9983761310577393)]</td>\n",
       "      <td>0</td>\n",
       "    </tr>\n",
       "    <tr>\n",
       "      <th>...</th>\n",
       "      <td>...</td>\n",
       "      <td>...</td>\n",
       "      <td>...</td>\n",
       "      <td>...</td>\n",
       "      <td>...</td>\n",
       "      <td>...</td>\n",
       "      <td>...</td>\n",
       "    </tr>\n",
       "    <tr>\n",
       "      <th>3760559</th>\n",
       "      <td>vtmztrtrdy.mp4</td>\n",
       "      <td>output_0028.png</td>\n",
       "      <td>1</td>\n",
       "      <td>FAKE</td>\n",
       "      <td>yauptnvsum.mp4</td>\n",
       "      <td>[((842, 227, 1059, 521), 0.9996424913406372)]</td>\n",
       "      <td>9</td>\n",
       "    </tr>\n",
       "    <tr>\n",
       "      <th>3760560</th>\n",
       "      <td>vtmztrtrdy.mp4</td>\n",
       "      <td>output_0029.png</td>\n",
       "      <td>1</td>\n",
       "      <td>FAKE</td>\n",
       "      <td>yauptnvsum.mp4</td>\n",
       "      <td>[((786, 230, 1006, 528), 0.9994530081748962)]</td>\n",
       "      <td>9</td>\n",
       "    </tr>\n",
       "    <tr>\n",
       "      <th>3760561</th>\n",
       "      <td>vtmztrtrdy.mp4</td>\n",
       "      <td>output_0030.png</td>\n",
       "      <td>1</td>\n",
       "      <td>FAKE</td>\n",
       "      <td>yauptnvsum.mp4</td>\n",
       "      <td>[((776, 234, 999, 526), 0.9996658563613892)]</td>\n",
       "      <td>9</td>\n",
       "    </tr>\n",
       "    <tr>\n",
       "      <th>3760562</th>\n",
       "      <td>vtmztrtrdy.mp4</td>\n",
       "      <td>output_0031.png</td>\n",
       "      <td>1</td>\n",
       "      <td>FAKE</td>\n",
       "      <td>yauptnvsum.mp4</td>\n",
       "      <td>[((797, 228, 1017, 530), 0.9992942810058594)]</td>\n",
       "      <td>9</td>\n",
       "    </tr>\n",
       "    <tr>\n",
       "      <th>3760563</th>\n",
       "      <td>vtmztrtrdy.mp4</td>\n",
       "      <td>output_0032.png</td>\n",
       "      <td>1</td>\n",
       "      <td>FAKE</td>\n",
       "      <td>yauptnvsum.mp4</td>\n",
       "      <td>[((806, 224, 1018, 524), 0.9994091987609863)]</td>\n",
       "      <td>9</td>\n",
       "    </tr>\n",
       "  </tbody>\n",
       "</table>\n",
       "<p>3760564 rows × 7 columns</p>\n",
       "</div>"
      ],
      "text/plain": [
       "               filename            image  faces_retina label        original  \\\n",
       "0        vpmyeepbep.mp4  output_0001.png             1  REAL             NaN   \n",
       "1        vpmyeepbep.mp4  output_0002.png             1  REAL             NaN   \n",
       "2        vpmyeepbep.mp4  output_0003.png             1  REAL             NaN   \n",
       "3        vpmyeepbep.mp4  output_0004.png             1  REAL             NaN   \n",
       "4        vpmyeepbep.mp4  output_0005.png             1  REAL             NaN   \n",
       "...                 ...              ...           ...   ...             ...   \n",
       "3760559  vtmztrtrdy.mp4  output_0028.png             1  FAKE  yauptnvsum.mp4   \n",
       "3760560  vtmztrtrdy.mp4  output_0029.png             1  FAKE  yauptnvsum.mp4   \n",
       "3760561  vtmztrtrdy.mp4  output_0030.png             1  FAKE  yauptnvsum.mp4   \n",
       "3760562  vtmztrtrdy.mp4  output_0031.png             1  FAKE  yauptnvsum.mp4   \n",
       "3760563  vtmztrtrdy.mp4  output_0032.png             1  FAKE  yauptnvsum.mp4   \n",
       "\n",
       "                                   thresh_boxes_retina  block  \n",
       "0         [((667, 600, 767, 751), 0.9984279870986938)]      0  \n",
       "1         [((667, 600, 767, 751), 0.9984278678894043)]      0  \n",
       "2         [((678, 600, 776, 749), 0.9989476799964905)]      0  \n",
       "3         [((678, 601, 774, 757), 0.9987552165985107)]      0  \n",
       "4         [((659, 607, 759, 754), 0.9983761310577393)]      0  \n",
       "...                                                ...    ...  \n",
       "3760559  [((842, 227, 1059, 521), 0.9996424913406372)]      9  \n",
       "3760560  [((786, 230, 1006, 528), 0.9994530081748962)]      9  \n",
       "3760561   [((776, 234, 999, 526), 0.9996658563613892)]      9  \n",
       "3760562  [((797, 228, 1017, 530), 0.9992942810058594)]      9  \n",
       "3760563  [((806, 224, 1018, 524), 0.9994091987609863)]      9  \n",
       "\n",
       "[3760564 rows x 7 columns]"
      ]
     },
     "execution_count": 66,
     "metadata": {},
     "output_type": "execute_result"
    }
   ],
   "source": [
    "frame.drop(columns = [\"split\"])"
   ]
  },
  {
   "cell_type": "code",
   "execution_count": null,
   "metadata": {},
   "outputs": [],
   "source": []
  },
  {
   "cell_type": "code",
   "execution_count": 67,
   "metadata": {},
   "outputs": [],
   "source": [
    "frame.to_pickle(path + \"/all_faces_df.pkl\")"
   ]
  },
  {
   "cell_type": "code",
   "execution_count": null,
   "metadata": {},
   "outputs": [],
   "source": []
  },
  {
   "cell_type": "code",
   "execution_count": 38,
   "metadata": {},
   "outputs": [
    {
     "data": {
      "text/plain": [
       "'vpmyeepbep.mp4'"
      ]
     },
     "execution_count": 38,
     "metadata": {},
     "output_type": "execute_result"
    }
   ],
   "source": [
    "#frame[(frame[\"label\"] == \"REAL\")].filename.unique()[0]"
   ]
  },
  {
   "cell_type": "code",
   "execution_count": null,
   "metadata": {},
   "outputs": [],
   "source": []
  }
 ],
 "metadata": {
  "kernelspec": {
   "display_name": "Python 3",
   "language": "python",
   "name": "python3"
  },
  "language_info": {
   "codemirror_mode": {
    "name": "ipython",
    "version": 3
   },
   "file_extension": ".py",
   "mimetype": "text/x-python",
   "name": "python",
   "nbconvert_exporter": "python",
   "pygments_lexer": "ipython3",
   "version": "3.6.9"
  }
 },
 "nbformat": 4,
 "nbformat_minor": 4
}
