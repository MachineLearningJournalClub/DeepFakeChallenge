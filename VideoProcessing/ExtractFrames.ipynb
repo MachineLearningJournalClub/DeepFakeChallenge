{
 "cells": [
  {
   "cell_type": "code",
   "execution_count": 18,
   "metadata": {},
   "outputs": [
    {
     "name": "stdout",
     "output_type": "stream",
     "text": [
      "The autotime extension is already loaded. To reload it, use:\n",
      "  %reload_ext autotime\n",
      "time: 1 ms\n"
     ]
    }
   ],
   "source": [
    "%load_ext autotime"
   ]
  },
  {
   "cell_type": "code",
   "execution_count": 19,
   "metadata": {
    "_cell_guid": "79c7e3d0-c299-4dcb-8224-4455121ee9b0",
    "_uuid": "d629ff2d2480ee46fbb7e2d37f6b5fab8052498a"
   },
   "outputs": [
    {
     "name": "stdout",
     "output_type": "stream",
     "text": [
      "time: 1 ms\n"
     ]
    }
   ],
   "source": [
    "import pandas as pd\n",
    "import numpy as np\n",
    "import glob, shutil\n",
    "import timeit, os, gc\n",
    "import subprocess as sp\n",
    "from tqdm import tqdm\n",
    "from collections import defaultdict\n",
    "from concurrent.futures import ProcessPoolExecutor, ThreadPoolExecutor\n",
    "import json\n",
    "from IPython.display import HTML\n",
    "from base64 import b64encode\n",
    "import cv2\n",
    "\n"
   ]
  },
  {
   "cell_type": "code",
   "execution_count": 20,
   "metadata": {},
   "outputs": [
    {
     "name": "stdout",
     "output_type": "stream",
     "text": [
      "time: 4 ms\n"
     ]
    }
   ],
   "source": [
    "pd.set_option('display.max_colwidth', -1)\n",
    "pd.set_option('display.max_columns', 500)\n",
    "pd.set_option('display.max_rows', 4000)\n",
    "import matplotlib.pyplot as plt\n",
    "%matplotlib inline\n",
    "import seaborn as sns\n",
    "sns.set(font_scale=1.0)"
   ]
  },
  {
   "cell_type": "code",
   "execution_count": 28,
   "metadata": {},
   "outputs": [
    {
     "name": "stdout",
     "output_type": "stream",
     "text": [
      "time: 2 ms\n"
     ]
    }
   ],
   "source": [
    "num = 1\n",
    "HOME = \"./\"\n",
    "FFMPEG = \"C:/Ffmpeg/bin\"\n",
    "FFMPEG_PATH = FFMPEG\n",
    "DATA_FOLDER = \"C:/Users/jamesjun/Desktop/Simone/DF\"\n",
    "#D:\\CueLearning\\DFData\\Df4Extracted\n",
    "TMP_FOLDER =  \"D:/CueLearning/DFData/DfExtracted\"\n",
    "DATA_FOLDER_TRAIN = DATA_FOLDER\n",
    "VIDEOS_FOLDER_TRAIN = DATA_FOLDER_TRAIN + \"/dfdc_train_part_\"+str(num)\n",
    "IMAGES_FOLDER_TRAIN = TMP_FOLDER + \"/images\"+str(num)\n",
    "AUDIOS_FOLDER_TRAIN = TMP_FOLDER + \"/audios\"+str(num)\n",
    "CROPPED_IMAGES_FOLDER = TMP_FOLDER + \"/cropped_images\"+str(num)\n",
    "EXTRACT_META = True # False\n",
    "EXTRACT_CONTENT = True # False\n",
    "EXTRACT_FACES = True # False\n",
    "FRAME_RATE = 3.0 # Frame per second to extract (max is 30.0)"
   ]
  },
  {
   "cell_type": "code",
   "execution_count": 29,
   "metadata": {},
   "outputs": [
    {
     "name": "stdout",
     "output_type": "stream",
     "text": [
      "time: 5 ms\n"
     ]
    }
   ],
   "source": [
    "def run_command(*popenargs, **kwargs):\n",
    "    closeNULL = 0\n",
    "    try:\n",
    "        from subprocess import DEVNULL\n",
    "        closeNULL = 0\n",
    "    except ImportError:\n",
    "        import os\n",
    "        DEVNULL = open(os.devnull, 'wb')\n",
    "        closeNULL = 1\n",
    "\n",
    "    process = sp.Popen(stdout=sp.PIPE, stderr=DEVNULL, *popenargs, **kwargs)\n",
    "    output, unused_err = process.communicate()\n",
    "    retcode = process.poll()\n",
    "\n",
    "    if closeNULL:\n",
    "        DEVNULL.close()\n",
    "\n",
    "    if retcode:\n",
    "        cmd = kwargs.get(\"args\")\n",
    "        if cmd is None:\n",
    "            cmd = popenargs[0]\n",
    "        error = sp.CalledProcessError(retcode, cmd)\n",
    "        error.output = output\n",
    "        raise error\n",
    "        \n",
    "    return output\n",
    "\n",
    "def ffprobe(filename, options = [\"-show_error\", \"-show_format\", \"-show_streams\", \"-show_programs\", \"-show_chapters\", \"-show_private_data\"]):\n",
    "    ret = {}\n",
    "    command = [FFMPEG_PATH + \"/ffprobe\", \"-v\", \"error\", *options, \"-print_format\", \"json\", filename]\n",
    "    ret = run_command(command)\n",
    "    if ret:\n",
    "        ret = json.loads(ret)\n",
    "    return ret\n",
    "\n",
    "# ffmpeg -i input.mov -r 0.25 output_%04d.png\n",
    "def ffextract_frames(filename, output_folder, rate = 0.25):\n",
    "    command = [FFMPEG_PATH + \"/ffmpeg\", \"-i\", filename, \"-r\", str(rate), \"-y\", output_folder + \"/output_%04d.png\"]\n",
    "    ret = run_command(command)\n",
    "    return ret\n",
    "\n",
    "# ffmpeg -i input-video.mp4 output-audio.mp3\n",
    "def ffextract_audio(filename, output_path):\n",
    "    command = [FFMPEG_PATH + \"/ffmpeg\", \"-i\", filename, \"-vn\", \"-ac\", \"1\", \"-acodec\", \"copy\", \"-y\", output_path]\n",
    "    ret = run_command(command)\n",
    "    return ret"
   ]
  },
  {
   "cell_type": "markdown",
   "metadata": {},
   "source": []
  },
  {
   "cell_type": "code",
   "execution_count": 30,
   "metadata": {
    "scrolled": true
   },
   "outputs": [
    {
     "name": "stderr",
     "output_type": "stream",
     "text": [
      "0it [00:00, ?it/s]\n"
     ]
    },
    {
     "data": {
      "text/html": [
       "<div>\n",
       "<style scoped>\n",
       "    .dataframe tbody tr th:only-of-type {\n",
       "        vertical-align: middle;\n",
       "    }\n",
       "\n",
       "    .dataframe tbody tr th {\n",
       "        vertical-align: top;\n",
       "    }\n",
       "\n",
       "    .dataframe thead th {\n",
       "        text-align: right;\n",
       "    }\n",
       "</style>\n",
       "<table border=\"1\" class=\"dataframe\">\n",
       "  <thead>\n",
       "    <tr style=\"text-align: right;\">\n",
       "      <th></th>\n",
       "      <th>filename</th>\n",
       "      <th>format</th>\n",
       "      <th>video_codec_name</th>\n",
       "      <th>video_height</th>\n",
       "      <th>video_width</th>\n",
       "      <th>video_nb_frames</th>\n",
       "      <th>video_bit_rate</th>\n",
       "      <th>video_duration</th>\n",
       "      <th>video_start_time</th>\n",
       "      <th>video_fps</th>\n",
       "      <th>audio_codec_name</th>\n",
       "      <th>audio_channels</th>\n",
       "      <th>audio_sample_rate</th>\n",
       "      <th>audio_nb_frames</th>\n",
       "      <th>audio_bit_rate</th>\n",
       "      <th>audio_duration</th>\n",
       "      <th>audio_start_time</th>\n",
       "    </tr>\n",
       "  </thead>\n",
       "  <tbody>\n",
       "  </tbody>\n",
       "</table>\n",
       "</div>"
      ],
      "text/plain": [
       "Empty DataFrame\n",
       "Columns: [filename, format, video_codec_name, video_height, video_width, video_nb_frames, video_bit_rate, video_duration, video_start_time, video_fps, audio_codec_name, audio_channels, audio_sample_rate, audio_nb_frames, audio_bit_rate, audio_duration, audio_start_time]\n",
       "Index: []"
      ]
     },
     "execution_count": 30,
     "metadata": {},
     "output_type": "execute_result"
    },
    {
     "name": "stdout",
     "output_type": "stream",
     "text": [
      "time: 61 ms\n"
     ]
    }
   ],
   "source": [
    "# Extract some meta-data\n",
    "if EXTRACT_META == True:\n",
    "    results = []\n",
    "    subfolder = VIDEOS_FOLDER_TRAIN\n",
    "    filepaths = glob.glob(subfolder + \"/*.mp4\")\n",
    "    for filepath in tqdm(filepaths):\n",
    "        js = ffprobe(filepath)\n",
    "        if js:\n",
    "            if len(js.get(\"streams\", [{}, {}]))>1 : \n",
    "                results.append(\n",
    "                    (js.get(\"format\", {}).get(\"filename\")[len(subfolder) + 1:],\n",
    "                    js.get(\"format\", {}).get(\"format_long_name\"),\n",
    "                    # Video \n",
    "                    js.get(\"streams\", [{}, {}])[0].get(\"codec_name\"),\n",
    "                    js.get(\"streams\", [{}, {}])[0].get(\"height\"),\n",
    "                    js.get(\"streams\", [{}, {}])[0].get(\"width\"),\n",
    "                    js.get(\"streams\", [{}, {}])[0].get(\"nb_frames\"),\n",
    "                    js.get(\"streams\", [{}, {}])[0].get(\"bit_rate\"),\n",
    "                    js.get(\"streams\", [{}, {}])[0].get(\"duration\"),\n",
    "                    js.get(\"streams\", [{}, {}])[0].get(\"start_time\"),\n",
    "                    js.get(\"streams\", [{}, {}])[0].get(\"avg_frame_rate\"),\n",
    "                    # Audio\n",
    "                    js.get(\"streams\", [{}, {}])[1].get(\"codec_name\"),\n",
    "                    js.get(\"streams\", [{}, {}])[1].get(\"channels\"),\n",
    "                    js.get(\"streams\", [{}, {}])[1].get(\"sample_rate\"),\n",
    "                    js.get(\"streams\", [{}, {}])[1].get(\"nb_frames\"),\n",
    "                    js.get(\"streams\", [{}, {}])[1].get(\"bit_rate\"),\n",
    "                    js.get(\"streams\", [{}, {}])[1].get(\"duration\"),\n",
    "                    js.get(\"streams\", [{}, {}])[1].get(\"start_time\")),\n",
    "                )\n",
    "            else :\n",
    "                results.append(\n",
    "                    (js.get(\"format\", {}).get(\"filename\")[len(subfolder) + 1:],\n",
    "                    js.get(\"format\", {}).get(\"format_long_name\"),\n",
    "                    # Video \n",
    "                    js.get(\"streams\", [{}, {}])[0].get(\"codec_name\"),\n",
    "                    js.get(\"streams\", [{}, {}])[0].get(\"height\"),\n",
    "                    js.get(\"streams\", [{}, {}])[0].get(\"width\"),\n",
    "                    js.get(\"streams\", [{}, {}])[0].get(\"nb_frames\"),\n",
    "                    js.get(\"streams\", [{}, {}])[0].get(\"bit_rate\"),\n",
    "                    js.get(\"streams\", [{}, {}])[0].get(\"duration\"),\n",
    "                    js.get(\"streams\", [{}, {}])[0].get(\"start_time\"),\n",
    "                    js.get(\"streams\", [{}, {}])[0].get(\"avg_frame_rate\"),\n",
    "                    # Audio\n",
    "                    np.nan,\n",
    "                    np.nan,\n",
    "                    np.nan,\n",
    "                    np.nan,\n",
    "                    np.nan,\n",
    "                    np.nan,\n",
    "                    np.nan),\n",
    "                )\n",
    "\n",
    "    meta_pd = pd.DataFrame(results, columns=[\"filename\", \"format\", \"video_codec_name\", \"video_height\", \"video_width\",\n",
    "                                            \"video_nb_frames\", \"video_bit_rate\", \"video_duration\", \"video_start_time\",\"video_fps\",\n",
    "                                            \"audio_codec_name\", \"audio_channels\", \"audio_sample_rate\", \"audio_nb_frames\",\n",
    "                                            \"audio_bit_rate\", \"audio_duration\", \"audio_start_time\"])\n",
    "    meta_pd[\"video_fps\"] = meta_pd[\"video_fps\"].apply(lambda x: float(x.split(\"/\")[0])/float(x.split(\"/\")[1]) if len(x.split(\"/\")) == 2 else None)\n",
    "    meta_pd[\"video_duration\"] = meta_pd[\"video_duration\"].astype(np.float32)\n",
    "    meta_pd[\"video_bit_rate\"] = meta_pd[\"video_bit_rate\"].astype(np.float32)\n",
    "    meta_pd[\"video_start_time\"] = meta_pd[\"video_start_time\"].astype(np.float32)\n",
    "    meta_pd[\"video_nb_frames\"] = meta_pd[\"video_nb_frames\"].astype(np.float32)\n",
    "    meta_pd[\"video_bit_rate\"] = meta_pd[\"video_bit_rate\"].astype(np.float32)\n",
    "    meta_pd[\"audio_sample_rate\"] = meta_pd[\"audio_sample_rate\"].astype(np.float32)\n",
    "    meta_pd[\"audio_nb_frames\"] = meta_pd[\"audio_nb_frames\"].astype(np.float32)\n",
    "    meta_pd[\"audio_bit_rate\"] = meta_pd[\"audio_bit_rate\"].astype(np.float32)\n",
    "    meta_pd[\"audio_duration\"] = meta_pd[\"audio_duration\"].astype(np.float32)\n",
    "    meta_pd[\"audio_start_time\"] = meta_pd[\"audio_start_time\"].astype(np.float32)\n",
    "    meta_pd.to_pickle(HOME + \"videos_meta.pkl\")\n",
    "else:\n",
    "    meta_pd = pd.read_pickle(HOME + \"videos_meta.pkl\")\n",
    "meta_pd.head()"
   ]
  },
  {
   "cell_type": "code",
   "execution_count": 24,
   "metadata": {},
   "outputs": [
    {
     "data": {
      "text/html": [
       "<div>\n",
       "<style scoped>\n",
       "    .dataframe tbody tr th:only-of-type {\n",
       "        vertical-align: middle;\n",
       "    }\n",
       "\n",
       "    .dataframe tbody tr th {\n",
       "        vertical-align: top;\n",
       "    }\n",
       "\n",
       "    .dataframe thead th {\n",
       "        text-align: right;\n",
       "    }\n",
       "</style>\n",
       "<table border=\"1\" class=\"dataframe\">\n",
       "  <thead>\n",
       "    <tr style=\"text-align: right;\">\n",
       "      <th></th>\n",
       "      <th>filename</th>\n",
       "      <th>label</th>\n",
       "      <th>split</th>\n",
       "      <th>original</th>\n",
       "    </tr>\n",
       "  </thead>\n",
       "  <tbody>\n",
       "    <tr>\n",
       "      <th>0</th>\n",
       "      <td>jgaejvfomy.mp4</td>\n",
       "      <td>FAKE</td>\n",
       "      <td>train</td>\n",
       "      <td>zqfntxsnna.mp4</td>\n",
       "    </tr>\n",
       "    <tr>\n",
       "      <th>1</th>\n",
       "      <td>yaroumkbcf.mp4</td>\n",
       "      <td>FAKE</td>\n",
       "      <td>train</td>\n",
       "      <td>dnocqlgupe.mp4</td>\n",
       "    </tr>\n",
       "    <tr>\n",
       "      <th>2</th>\n",
       "      <td>bgxjabrhbg.mp4</td>\n",
       "      <td>FAKE</td>\n",
       "      <td>train</td>\n",
       "      <td>kviesaqfdo.mp4</td>\n",
       "    </tr>\n",
       "    <tr>\n",
       "      <th>3</th>\n",
       "      <td>ayneiahymh.mp4</td>\n",
       "      <td>FAKE</td>\n",
       "      <td>train</td>\n",
       "      <td>zqwyggtgfc.mp4</td>\n",
       "    </tr>\n",
       "    <tr>\n",
       "      <th>4</th>\n",
       "      <td>uxvuxoabmi.mp4</td>\n",
       "      <td>FAKE</td>\n",
       "      <td>train</td>\n",
       "      <td>jjufjipkit.mp4</td>\n",
       "    </tr>\n",
       "  </tbody>\n",
       "</table>\n",
       "</div>"
      ],
      "text/plain": [
       "         filename label  split        original\n",
       "0  jgaejvfomy.mp4  FAKE  train  zqfntxsnna.mp4\n",
       "1  yaroumkbcf.mp4  FAKE  train  dnocqlgupe.mp4\n",
       "2  bgxjabrhbg.mp4  FAKE  train  kviesaqfdo.mp4\n",
       "3  ayneiahymh.mp4  FAKE  train  zqwyggtgfc.mp4\n",
       "4  uxvuxoabmi.mp4  FAKE  train  jjufjipkit.mp4"
      ]
     },
     "execution_count": 24,
     "metadata": {},
     "output_type": "execute_result"
    },
    {
     "name": "stdout",
     "output_type": "stream",
     "text": [
      "time: 867 ms\n"
     ]
    }
   ],
   "source": [
    "train_pd = pd.read_json(VIDEOS_FOLDER_TRAIN + \"/metadata.json\").T.reset_index().rename(columns={\"index\": \"filename\"})\n",
    "train_pd.head()"
   ]
  },
  {
   "cell_type": "code",
   "execution_count": 25,
   "metadata": {},
   "outputs": [
    {
     "data": {
      "text/html": [
       "<div>\n",
       "<style scoped>\n",
       "    .dataframe tbody tr th:only-of-type {\n",
       "        vertical-align: middle;\n",
       "    }\n",
       "\n",
       "    .dataframe tbody tr th {\n",
       "        vertical-align: top;\n",
       "    }\n",
       "\n",
       "    .dataframe thead th {\n",
       "        text-align: right;\n",
       "    }\n",
       "</style>\n",
       "<table border=\"1\" class=\"dataframe\">\n",
       "  <thead>\n",
       "    <tr style=\"text-align: right;\">\n",
       "      <th></th>\n",
       "      <th>filename</th>\n",
       "      <th>label</th>\n",
       "      <th>split</th>\n",
       "      <th>original</th>\n",
       "      <th>video_height</th>\n",
       "      <th>video_width</th>\n",
       "      <th>video_nb_frames</th>\n",
       "      <th>video_bit_rate</th>\n",
       "      <th>audio_nb_frames</th>\n",
       "      <th>count</th>\n",
       "    </tr>\n",
       "  </thead>\n",
       "  <tbody>\n",
       "    <tr>\n",
       "      <th>0</th>\n",
       "      <td>jgaejvfomy.mp4</td>\n",
       "      <td>FAKE</td>\n",
       "      <td>train</td>\n",
       "      <td>zqfntxsnna.mp4</td>\n",
       "      <td>1080</td>\n",
       "      <td>1920</td>\n",
       "      <td>300.0</td>\n",
       "      <td>2613943.0</td>\n",
       "      <td>432.0</td>\n",
       "      <td>13.0</td>\n",
       "    </tr>\n",
       "    <tr>\n",
       "      <th>1</th>\n",
       "      <td>yaroumkbcf.mp4</td>\n",
       "      <td>FAKE</td>\n",
       "      <td>train</td>\n",
       "      <td>dnocqlgupe.mp4</td>\n",
       "      <td>1080</td>\n",
       "      <td>1920</td>\n",
       "      <td>300.0</td>\n",
       "      <td>6758835.0</td>\n",
       "      <td>432.0</td>\n",
       "      <td>18.0</td>\n",
       "    </tr>\n",
       "    <tr>\n",
       "      <th>2</th>\n",
       "      <td>bgxjabrhbg.mp4</td>\n",
       "      <td>FAKE</td>\n",
       "      <td>train</td>\n",
       "      <td>kviesaqfdo.mp4</td>\n",
       "      <td>1920</td>\n",
       "      <td>1080</td>\n",
       "      <td>300.0</td>\n",
       "      <td>6402011.0</td>\n",
       "      <td>432.0</td>\n",
       "      <td>4.0</td>\n",
       "    </tr>\n",
       "    <tr>\n",
       "      <th>3</th>\n",
       "      <td>ayneiahymh.mp4</td>\n",
       "      <td>FAKE</td>\n",
       "      <td>train</td>\n",
       "      <td>zqwyggtgfc.mp4</td>\n",
       "      <td>1080</td>\n",
       "      <td>1920</td>\n",
       "      <td>300.0</td>\n",
       "      <td>2411550.0</td>\n",
       "      <td>432.0</td>\n",
       "      <td>18.0</td>\n",
       "    </tr>\n",
       "    <tr>\n",
       "      <th>4</th>\n",
       "      <td>uxvuxoabmi.mp4</td>\n",
       "      <td>FAKE</td>\n",
       "      <td>train</td>\n",
       "      <td>jjufjipkit.mp4</td>\n",
       "      <td>1080</td>\n",
       "      <td>1920</td>\n",
       "      <td>300.0</td>\n",
       "      <td>5742318.0</td>\n",
       "      <td>432.0</td>\n",
       "      <td>18.0</td>\n",
       "    </tr>\n",
       "  </tbody>\n",
       "</table>\n",
       "</div>"
      ],
      "text/plain": [
       "         filename label  split        original  video_height  video_width  \\\n",
       "0  jgaejvfomy.mp4  FAKE  train  zqfntxsnna.mp4  1080          1920          \n",
       "1  yaroumkbcf.mp4  FAKE  train  dnocqlgupe.mp4  1080          1920          \n",
       "2  bgxjabrhbg.mp4  FAKE  train  kviesaqfdo.mp4  1920          1080          \n",
       "3  ayneiahymh.mp4  FAKE  train  zqwyggtgfc.mp4  1080          1920          \n",
       "4  uxvuxoabmi.mp4  FAKE  train  jjufjipkit.mp4  1080          1920          \n",
       "\n",
       "   video_nb_frames  video_bit_rate  audio_nb_frames  count  \n",
       "0  300.0            2613943.0       432.0            13.0   \n",
       "1  300.0            6758835.0       432.0            18.0   \n",
       "2  300.0            6402011.0       432.0            4.0    \n",
       "3  300.0            2411550.0       432.0            18.0   \n",
       "4  300.0            5742318.0       432.0            18.0   "
      ]
     },
     "execution_count": 25,
     "metadata": {},
     "output_type": "execute_result"
    },
    {
     "name": "stdout",
     "output_type": "stream",
     "text": [
      "time: 27 ms\n"
     ]
    }
   ],
   "source": [
    "train_pd = pd.merge(train_pd, meta_pd[[\"filename\", \"video_height\", \"video_width\", \"video_nb_frames\", \"video_bit_rate\", \"audio_nb_frames\"]], on=\"filename\", how=\"left\")\n",
    "train_pd[\"count\"] = train_pd.groupby([\"original\"])[\"original\"].transform('count')\n",
    "# train_pd.to_pickle(HOME + \"train_meta.pkl\")\n",
    "train_pd.head()"
   ]
  },
  {
   "cell_type": "code",
   "execution_count": 27,
   "metadata": {},
   "outputs": [
    {
     "data": {
      "text/plain": [
       "55552"
      ]
     },
     "execution_count": 27,
     "metadata": {},
     "output_type": "execute_result"
    },
    {
     "name": "stdout",
     "output_type": "stream",
     "text": [
      "time: 2 ms\n"
     ]
    }
   ],
   "source": []
  },
  {
   "cell_type": "code",
   "execution_count": null,
   "metadata": {},
   "outputs": [],
   "source": []
  },
  {
   "cell_type": "code",
   "execution_count": 16,
   "metadata": {
    "scrolled": true
   },
   "outputs": [
    {
     "name": "stdout",
     "output_type": "stream",
     "text": [
      "time: 1 ms\n"
     ]
    }
   ],
   "source": [
    "\"\"\"videos_folder = VIDEOS_FOLDER_TRAIN\n",
    "images_folder_path = IMAGES_FOLDER_TRAIN\n",
    "audios_folder_path = AUDIOS_FOLDER_TRAIN\"\"\";"
   ]
  },
  {
   "cell_type": "code",
   "execution_count": 17,
   "metadata": {
    "scrolled": true
   },
   "outputs": [
    {
     "name": "stderr",
     "output_type": "stream",
     "text": [
      "100%|████████████████████████████████████| 3134/3134 [1:54:55<00:00,  2.20s/it]"
     ]
    },
    {
     "name": "stdout",
     "output_type": "stream",
     "text": [
      "time: 1h 54min 55s\n"
     ]
    },
    {
     "name": "stderr",
     "output_type": "stream",
     "text": [
      "\n"
     ]
    }
   ],
   "source": [
    "AUDIO_FORMAT = \"wav\" # \"wav\"\n",
    "videos_folder = VIDEOS_FOLDER_TRAIN\n",
    "images_folder_path = IMAGES_FOLDER_TRAIN\n",
    "audios_folder_path = AUDIOS_FOLDER_TRAIN\n",
    "if EXTRACT_CONTENT == True:\n",
    "    # 1h20min for chunk#0 (11GB)\n",
    "    # Extract some images + audio track\n",
    "    for idx, row in tqdm(train_pd.iterrows(), total=meta_pd.shape[0]):\n",
    "        try:\n",
    "            video_path = videos_folder + \"/\" + row[\"filename\"]\n",
    "            images_path = images_folder_path + \"/\" + row[\"filename\"][:-4]\n",
    "            audio_path = audios_folder_path + \"/\" + row[\"filename\"][:-4]\n",
    "            # Extract images\n",
    "            if not os.path.exists(images_path): os.makedirs(images_path)\n",
    "            ret = ffextract_frames(video_path, images_path, rate = FRAME_RATE)\n",
    "            # Extract audio\n",
    "            #if not os.path.exists(audio_path): os.makedirs(audio_path)\n",
    "            #ret = ffextract_audio(video_path, audio_path + \"/audio.\" + AUDIO_FORMAT)\n",
    "        except:\n",
    "            print(\"Cannot extract frames/audio for:\" + row[\"filename\"])"
   ]
  },
  {
   "cell_type": "code",
   "execution_count": null,
   "metadata": {},
   "outputs": [],
   "source": []
  },
  {
   "cell_type": "code",
   "execution_count": null,
   "metadata": {},
   "outputs": [],
   "source": []
  },
  {
   "cell_type": "code",
   "execution_count": null,
   "metadata": {},
   "outputs": [],
   "source": []
  },
  {
   "cell_type": "code",
   "execution_count": null,
   "metadata": {},
   "outputs": [],
   "source": []
  }
 ],
 "metadata": {
  "kernelspec": {
   "display_name": "Python 3",
   "language": "python",
   "name": "python3"
  },
  "language_info": {
   "codemirror_mode": {
    "name": "ipython",
    "version": 3
   },
   "file_extension": ".py",
   "mimetype": "text/x-python",
   "name": "python",
   "nbconvert_exporter": "python",
   "pygments_lexer": "ipython3",
   "version": "3.6.9"
  }
 },
 "nbformat": 4,
 "nbformat_minor": 1
}
