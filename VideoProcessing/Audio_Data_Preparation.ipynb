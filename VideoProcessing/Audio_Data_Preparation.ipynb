{
 "cells": [
  {
   "cell_type": "code",
   "execution_count": 1,
   "metadata": {},
   "outputs": [],
   "source": [
    "main_path = 'D://DeepFakeKaggleChallenge/Data/'"
   ]
  },
  {
   "cell_type": "code",
   "execution_count": 2,
   "metadata": {},
   "outputs": [],
   "source": [
    "import h5py\n",
    "import tqdm\n",
    "\n",
    "np.random.seed(42)"
   ]
  },
  {
   "cell_type": "code",
   "execution_count": 3,
   "metadata": {},
   "outputs": [],
   "source": [
    "folders = os.listdir(main_path)"
   ]
  },
  {
   "cell_type": "code",
   "execution_count": 4,
   "metadata": {
    "scrolled": false
   },
   "outputs": [
    {
     "name": "stderr",
     "output_type": "stream",
     "text": [
      "c:\\users\\simon\\anaconda3\\envs\\dfchallenge\\lib\\site-packages\\ipykernel_launcher.py:4: TqdmDeprecationWarning: This function will be removed in tqdm==5.0.0\n",
      "Please use `tqdm.notebook.tqdm` instead of `tqdm.tqdm_notebook`\n",
      "  after removing the cwd from sys.path.\n"
     ]
    },
    {
     "data": {
      "application/vnd.jupyter.widget-view+json": {
       "model_id": "4c68850f55b340f497a423b23fcde0af",
       "version_major": 2,
       "version_minor": 0
      },
      "text/plain": [
       "HBox(children=(FloatProgress(value=0.0, max=50.0), HTML(value='')))"
      ]
     },
     "metadata": {},
     "output_type": "display_data"
    },
    {
     "name": "stdout",
     "output_type": "stream",
     "text": [
      "\n"
     ]
    }
   ],
   "source": [
    "X = []\n",
    "Y = []\n",
    "\n",
    "for i in tqdm.tqdm_notebook(range(len(folders))):\n",
    "    df = pd.read_json(main_path+folders[i]+'/metadata.json')\n",
    "    df = df.transpose().reset_index()\n",
    "    df = df[df.label.isin(['FAKE'])].reset_index(drop=True)\n",
    "    for j in range(len(df)):\n",
    "        a = subprocess.call('ffmpeg -y -i '+main_path+folders[i]+'/'+df.iloc[j]['index']+' '+main_path+folders[i]+'/'+df.iloc[j]['index'][:-4]+'.wav', shell=True)\n",
    "        b = subprocess.call('ffmpeg -y -i '+main_path+folders[i]+'/'+df.iloc[j]['original']+' '+main_path+folders[i]+'/'+df.iloc[j]['original'][:-4]+'.wav', shell=True)\n",
    "        if a+b == 0:\n",
    "            try:\n",
    "                audio_array_a, sr = librosa.load(main_path+folders[i]+'/'+df.iloc[j]['index'][:-4]+'.wav', sr= 20000)\n",
    "                audio_array_b, sr = librosa.load(main_path+folders[i]+'/'+df.iloc[j]['original'][:-4]+'.wav', sr= 20000)\n",
    "                if audio_array_a.shape==audio_array_b.shape:\n",
    "                    if all(audio_array_a!=audio_array_b):\n",
    "                        continue\n",
    "                S_f = librosa.feature.melspectrogram(y=audio_array_a, n_mels=128, fmax=8000, sr=20000)\n",
    "                S_dB_f = librosa.power_to_db(S_f, ref=np.max)\n",
    "                S_r = librosa.feature.melspectrogram(y=audio_array_b, n_mels=128, fmax=8000, sr=20000)\n",
    "                S_dB_r = librosa.power_to_db(S_f, ref=np.max)\n",
    "                X.append(S_dB_f)\n",
    "                Y.append(0)\n",
    "                X.append(S_dB_r)\n",
    "                Y.append(1)\n",
    "            except:\n",
    "                continue"
   ]
  },
  {
   "cell_type": "code",
   "execution_count": 28,
   "metadata": {},
   "outputs": [],
   "source": [
    "with h5py.File('D://DeepFakeKaggleChallenge/Data/audio_data_Y.h5', 'w') as hf:\n",
    "    for index, element in enumerate(Y):\n",
    "        hf.create_dataset(name = 'dataset{:d}'.format(index), data=element)"
   ]
  },
  {
   "cell_type": "code",
   "execution_count": 30,
   "metadata": {
    "scrolled": true
   },
   "outputs": [],
   "source": [
    "with open('X_0.pkl', 'wb') as f:\n",
    "    pickle.dump(X[:len(X)//10], f)"
   ]
  },
  {
   "cell_type": "code",
   "execution_count": 29,
   "metadata": {},
   "outputs": [],
   "source": [
    "import pickle"
   ]
  },
  {
   "cell_type": "code",
   "execution_count": 31,
   "metadata": {},
   "outputs": [],
   "source": [
    "a = len(X)//10"
   ]
  },
  {
   "cell_type": "code",
   "execution_count": 32,
   "metadata": {},
   "outputs": [],
   "source": [
    "with open('X_1.pkl', 'wb') as f:\n",
    "    pickle.dump(X[a:2*a], f)"
   ]
  },
  {
   "cell_type": "code",
   "execution_count": 33,
   "metadata": {},
   "outputs": [],
   "source": [
    "with open('X_2.pkl', 'wb') as f:\n",
    "    pickle.dump(X[2*a:3*a], f)"
   ]
  },
  {
   "cell_type": "code",
   "execution_count": 34,
   "metadata": {},
   "outputs": [],
   "source": [
    "with open('X_3.pkl', 'wb') as f:\n",
    "    pickle.dump(X[3*a:4*a], f)"
   ]
  },
  {
   "cell_type": "code",
   "execution_count": 35,
   "metadata": {},
   "outputs": [],
   "source": [
    "with open('X_4.pkl', 'wb') as f:\n",
    "    pickle.dump(X[4*a:5*a], f)"
   ]
  },
  {
   "cell_type": "code",
   "execution_count": 36,
   "metadata": {},
   "outputs": [],
   "source": [
    "with open('X_5.pkl', 'wb') as f:\n",
    "    pickle.dump(X[5*a:6*a], f)"
   ]
  },
  {
   "cell_type": "code",
   "execution_count": 37,
   "metadata": {},
   "outputs": [],
   "source": [
    "with open('X_6.pkl', 'wb') as f:\n",
    "    pickle.dump(X[6*a:7*a], f)"
   ]
  },
  {
   "cell_type": "code",
   "execution_count": 38,
   "metadata": {},
   "outputs": [],
   "source": [
    "with open('X_7.pkl', 'wb') as f:\n",
    "    pickle.dump(X[7*a:8*a], f)"
   ]
  },
  {
   "cell_type": "code",
   "execution_count": 39,
   "metadata": {},
   "outputs": [],
   "source": [
    "with open('X_8.pkl', 'wb') as f:\n",
    "    pickle.dump(X[8*a:9*a], f)"
   ]
  },
  {
   "cell_type": "code",
   "execution_count": 40,
   "metadata": {},
   "outputs": [],
   "source": [
    "with open('X_9.pkl', 'wb') as f:\n",
    "    pickle.dump(X[9*a:], f)"
   ]
  },
  {
   "cell_type": "code",
   "execution_count": 32,
   "metadata": {},
   "outputs": [],
   "source": [
    "with open('X_1.pkl', 'wb') as f:\n",
    "    pickle.dump(X[a:2*a], f)"
   ]
  },
  {
   "cell_type": "code",
   "execution_count": 33,
   "metadata": {},
   "outputs": [],
   "source": [
    "with open('X_2.pkl', 'wb') as f:\n",
    "    pickle.dump(X[2*a:3*a], f)"
   ]
  },
  {
   "cell_type": "code",
   "execution_count": 34,
   "metadata": {},
   "outputs": [],
   "source": [
    "with open('X_3.pkl', 'wb') as f:\n",
    "    pickle.dump(X[3*a:4*a], f)"
   ]
  },
  {
   "cell_type": "code",
   "execution_count": 35,
   "metadata": {},
   "outputs": [],
   "source": [
    "with open('X_4.pkl', 'wb') as f:\n",
    "    pickle.dump(X[4*a:5*a], f)"
   ]
  },
  {
   "cell_type": "code",
   "execution_count": 36,
   "metadata": {},
   "outputs": [],
   "source": [
    "with open('X_5.pkl', 'wb') as f:\n",
    "    pickle.dump(X[5*a:6*a], f)"
   ]
  },
  {
   "cell_type": "code",
   "execution_count": 37,
   "metadata": {},
   "outputs": [],
   "source": [
    "with open('X_6.pkl', 'wb') as f:\n",
    "    pickle.dump(X[6*a:7*a], f)"
   ]
  },
  {
   "cell_type": "code",
   "execution_count": 38,
   "metadata": {},
   "outputs": [],
   "source": [
    "with open('X_7.pkl', 'wb') as f:\n",
    "    pickle.dump(X[7*a:8*a], f)"
   ]
  },
  {
   "cell_type": "code",
   "execution_count": 39,
   "metadata": {},
   "outputs": [],
   "source": [
    "with open('X_8.pkl', 'wb') as f:\n",
    "    pickle.dump(X[8*a:9*a], f)"
   ]
  },
  {
   "cell_type": "code",
   "execution_count": 40,
   "metadata": {},
   "outputs": [],
   "source": [
    "with open('X_9.pkl', 'wb') as f:\n",
    "    pickle.dump(X[9*a:], f)"
   ]
  },
  {
   "cell_type": "code",
   "execution_count": 41,
   "metadata": {},
   "outputs": [
    {
     "data": {
      "text/plain": [
       "True"
      ]
     },
     "execution_count": 41,
     "metadata": {},
     "output_type": "execute_result"
    }
   ],
   "source": [
    "len(X) == len(Y)"
   ]
  },
  {
   "cell_type": "code",
   "execution_count": 42,
   "metadata": {},
   "outputs": [],
   "source": [
    "with open('Y_1.pkl', 'wb') as f:\n",
    "    pickle.dump(Y[a:2*a], f)\n",
    "\n",
    "with open('Y_2.pkl', 'wb') as f:\n",
    "    pickle.dump(Y[2*a:3*a], f)\n",
    "\n",
    "with open('Y_3.pkl', 'wb') as f:\n",
    "    pickle.dump(Y[3*a:4*a], f)\n",
    "\n",
    "with open('Y_4.pkl', 'wb') as f:\n",
    "    pickle.dump(Y[4*a:5*a], f)\n",
    "\n",
    "with open('Y_5.pkl', 'wb') as f:\n",
    "    pickle.dump(Y[5*a:6*a], f)\n",
    "\n",
    "with open('Y_6.pkl', 'wb') as f:\n",
    "    pickle.dump(Y[6*a:7*a], f)\n",
    "\n",
    "with open('Y_7.pkl', 'wb') as f:\n",
    "    pickle.dump(Y[7*a:8*a], f)\n",
    "\n",
    "with open('Y_8.pkl', 'wb') as f:\n",
    "    pickle.dump(Y[8*a:9*a], f)\n",
    "\n",
    "with open('Y_9.pkl', 'wb') as f:\n",
    "    pickle.dump(Y[9*a:], f)"
   ]
  },
  {
   "cell_type": "code",
   "execution_count": null,
   "metadata": {},
   "outputs": [],
   "source": []
  },
  {
   "cell_type": "code",
   "execution_count": null,
   "metadata": {},
   "outputs": [],
   "source": []
  }
 ],
 "metadata": {
  "kernelspec": {
   "display_name": "Python 3",
   "language": "python",
   "name": "python3"
  }
 },
 "nbformat": 4,
 "nbformat_minor": 4
}
