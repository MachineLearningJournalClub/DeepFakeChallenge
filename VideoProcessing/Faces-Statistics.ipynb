{
 "cells": [
  {
   "cell_type": "code",
   "execution_count": 1,
   "metadata": {},
   "outputs": [],
   "source": [
    "%load_ext autotime"
   ]
  },
  {
   "cell_type": "code",
   "execution_count": 2,
   "metadata": {
    "_cell_guid": "79c7e3d0-c299-4dcb-8224-4455121ee9b0",
    "_uuid": "d629ff2d2480ee46fbb7e2d37f6b5fab8052498a"
   },
   "outputs": [
    {
     "name": "stdout",
     "output_type": "stream",
     "text": [
      "time: 601 ms\n"
     ]
    }
   ],
   "source": [
    "import pandas as pd\n",
    "import numpy as np\n",
    "import glob, shutil\n",
    "import timeit, os, gc\n",
    "import subprocess as sp\n",
    "from tqdm import tqdm\n",
    "from collections import defaultdict\n",
    "from concurrent.futures import ProcessPoolExecutor, ThreadPoolExecutor\n",
    "import json\n",
    "from IPython.display import HTML\n",
    "from base64 import b64encode\n",
    "import cv2"
   ]
  },
  {
   "cell_type": "code",
   "execution_count": 15,
   "metadata": {},
   "outputs": [
    {
     "name": "stdout",
     "output_type": "stream",
     "text": [
      "time: 495 ms\n"
     ]
    }
   ],
   "source": [
    "import seaborn as sns"
   ]
  },
  {
   "cell_type": "code",
   "execution_count": 3,
   "metadata": {},
   "outputs": [
    {
     "name": "stderr",
     "output_type": "stream",
     "text": [
      "c:\\users\\jamesjun\\anaconda3\\envs\\dfchallenge\\lib\\site-packages\\ipykernel_launcher.py:1: FutureWarning: Passing a negative integer is deprecated in version 1.0 and will not be supported in future version. Instead, use None to not limit the column width.\n",
      "  \"\"\"Entry point for launching an IPython kernel.\n"
     ]
    },
    {
     "name": "stdout",
     "output_type": "stream",
     "text": [
      "time: 336 ms\n"
     ]
    }
   ],
   "source": [
    "pd.set_option('display.max_colwidth', -1)\n",
    "pd.set_option('display.max_columns', 500)\n",
    "pd.set_option('display.max_rows', 4000)\n",
    "import matplotlib.pyplot as plt\n",
    "%matplotlib inline\n",
    "#import seaborn as sns\n",
    "#sns.set(font_scale=1.0)"
   ]
  },
  {
   "cell_type": "code",
   "execution_count": 6,
   "metadata": {},
   "outputs": [
    {
     "data": {
      "text/html": [
       "<div>\n",
       "<style scoped>\n",
       "    .dataframe tbody tr th:only-of-type {\n",
       "        vertical-align: middle;\n",
       "    }\n",
       "\n",
       "    .dataframe tbody tr th {\n",
       "        vertical-align: top;\n",
       "    }\n",
       "\n",
       "    .dataframe thead th {\n",
       "        text-align: right;\n",
       "    }\n",
       "</style>\n",
       "<table border=\"1\" class=\"dataframe\">\n",
       "  <thead>\n",
       "    <tr style=\"text-align: right;\">\n",
       "      <th></th>\n",
       "      <th>filename</th>\n",
       "      <th>image</th>\n",
       "      <th>faces_retina</th>\n",
       "      <th>label</th>\n",
       "      <th>split</th>\n",
       "      <th>original</th>\n",
       "      <th>thresh_boxes_retina</th>\n",
       "      <th>block</th>\n",
       "    </tr>\n",
       "  </thead>\n",
       "  <tbody>\n",
       "    <tr>\n",
       "      <th>0</th>\n",
       "      <td>vpmyeepbep.mp4</td>\n",
       "      <td>output_0001.png</td>\n",
       "      <td>1</td>\n",
       "      <td>REAL</td>\n",
       "      <td>train</td>\n",
       "      <td>NaN</td>\n",
       "      <td>[((667, 600, 767, 751), 0.9984279870986938)]</td>\n",
       "      <td>0</td>\n",
       "    </tr>\n",
       "    <tr>\n",
       "      <th>1</th>\n",
       "      <td>vpmyeepbep.mp4</td>\n",
       "      <td>output_0002.png</td>\n",
       "      <td>1</td>\n",
       "      <td>REAL</td>\n",
       "      <td>train</td>\n",
       "      <td>NaN</td>\n",
       "      <td>[((667, 600, 767, 751), 0.9984278678894043)]</td>\n",
       "      <td>0</td>\n",
       "    </tr>\n",
       "    <tr>\n",
       "      <th>2</th>\n",
       "      <td>vpmyeepbep.mp4</td>\n",
       "      <td>output_0003.png</td>\n",
       "      <td>1</td>\n",
       "      <td>REAL</td>\n",
       "      <td>train</td>\n",
       "      <td>NaN</td>\n",
       "      <td>[((678, 600, 776, 749), 0.9989476799964905)]</td>\n",
       "      <td>0</td>\n",
       "    </tr>\n",
       "    <tr>\n",
       "      <th>3</th>\n",
       "      <td>vpmyeepbep.mp4</td>\n",
       "      <td>output_0004.png</td>\n",
       "      <td>1</td>\n",
       "      <td>REAL</td>\n",
       "      <td>train</td>\n",
       "      <td>NaN</td>\n",
       "      <td>[((678, 601, 774, 757), 0.9987552165985107)]</td>\n",
       "      <td>0</td>\n",
       "    </tr>\n",
       "    <tr>\n",
       "      <th>4</th>\n",
       "      <td>vpmyeepbep.mp4</td>\n",
       "      <td>output_0005.png</td>\n",
       "      <td>1</td>\n",
       "      <td>REAL</td>\n",
       "      <td>train</td>\n",
       "      <td>NaN</td>\n",
       "      <td>[((659, 607, 759, 754), 0.9983761310577393)]</td>\n",
       "      <td>0</td>\n",
       "    </tr>\n",
       "  </tbody>\n",
       "</table>\n",
       "</div>"
      ],
      "text/plain": [
       "         filename            image  faces_retina label  split original  \\\n",
       "0  vpmyeepbep.mp4  output_0001.png  1             REAL  train  NaN       \n",
       "1  vpmyeepbep.mp4  output_0002.png  1             REAL  train  NaN       \n",
       "2  vpmyeepbep.mp4  output_0003.png  1             REAL  train  NaN       \n",
       "3  vpmyeepbep.mp4  output_0004.png  1             REAL  train  NaN       \n",
       "4  vpmyeepbep.mp4  output_0005.png  1             REAL  train  NaN       \n",
       "\n",
       "                            thresh_boxes_retina  block  \n",
       "0  [((667, 600, 767, 751), 0.9984279870986938)]  0      \n",
       "1  [((667, 600, 767, 751), 0.9984278678894043)]  0      \n",
       "2  [((678, 600, 776, 749), 0.9989476799964905)]  0      \n",
       "3  [((678, 601, 774, 757), 0.9987552165985107)]  0      \n",
       "4  [((659, 607, 759, 754), 0.9983761310577393)]  0      "
      ]
     },
     "execution_count": 6,
     "metadata": {},
     "output_type": "execute_result"
    },
    {
     "name": "stdout",
     "output_type": "stream",
     "text": [
      "time: 7.86 s\n"
     ]
    }
   ],
   "source": [
    "#clean_faces_pd = pd.merge(all_faces_pd, train_pd, on=\"filename\", how=\"left\")\n",
    "clean_faces_pd = pd.read_pickle(\"D:/CueLearning/DFData/all_faces_df.pkl\")\n",
    "clean_faces_pd.head()"
   ]
  },
  {
   "cell_type": "code",
   "execution_count": 9,
   "metadata": {},
   "outputs": [
    {
     "name": "stdout",
     "output_type": "stream",
     "text": [
      "time: 1min\n"
     ]
    }
   ],
   "source": [
    "# Find out face width/height\n",
    "def faces_max_item(boxes, idx1, idx2):\n",
    "    ret = 0\n",
    "    if len(boxes) > 0:\n",
    "        ret = max(boxes, key=lambda item: item[idx1][idx2])[idx1][idx2]\n",
    "    return ret\n",
    "\n",
    "def faces_max_confidence(boxes):\n",
    "    ret = 0\n",
    "    if len(boxes) > 0:\n",
    "        ret = max(boxes, key=lambda item: item[1])[1]\n",
    "    return ret\n",
    "\n",
    "def faces_min_confidence(boxes):\n",
    "    ret = 0\n",
    "    if len(boxes) > 0:\n",
    "        ret = min(boxes, key=lambda item: item[1])[1]\n",
    "    return ret\n",
    "\n",
    "\n",
    "# To filter faces with a confidence lower than threshold\n",
    "def faces_threshold(boxes, conf_thresh = 0.96):\n",
    "    ret = [] \n",
    "    if len(boxes) > 0:\n",
    "        for i in range(len(boxes)):\n",
    "            if boxes[i][1] > conf_thresh:\n",
    "                ret.append(boxes[i])\n",
    "    \n",
    "    return ret\n",
    "\n",
    "def number_of_faces(boxes):\n",
    "    ret = len(boxes)\n",
    "    \n",
    "    return ret\n",
    "\n",
    "def maximum_number_of_faces(boxes, max_num = 2):\n",
    "    # Faces are sorted from higher to lower confidence\n",
    "    # since there are maximum two faces  per video we want to remove the third or 4th value\n",
    "    \n",
    "    ret = [] \n",
    "    if len(boxes) > max_num:\n",
    "        for i in range(max_num):    \n",
    "            ret.append(boxes[i])\n",
    "    else:\n",
    "        for i in range(len(boxes)):    \n",
    "            ret.append(boxes[i])\n",
    "    \n",
    "    return ret\n",
    "    \n",
    "\n",
    "def fixed_cropping(boxes, w_def = 350, h_def = 450):\n",
    "    ret = []\n",
    "    for i in range(len(boxes)):\n",
    "        original_box = list(boxes[i][0])\n",
    "        w_box = original_box[2] - original_box[0]\n",
    "        h_box = original_box[3] - original_box[1]\n",
    "        c1 = w_box/2 + original_box[0]\n",
    "        c2= h_box/2 + original_box[1]\n",
    "        \n",
    "        large_box = []\n",
    "        large_box.append(int(c1- w_def/2  ))\n",
    "        large_box.append(int( c2 - h_def/2 ))\n",
    "        large_box.append(int( w_def/2+ c1))\n",
    "        large_box.append(int(h_def/2 + c2))\n",
    "        \n",
    "        large_box_tuple = tuple(large_box)\n",
    "        o = [large_box_tuple, boxes[i][1]]\n",
    "        n = tuple(o)\n",
    "        ret.append(n)\n",
    "             \n",
    "    return ret\n",
    "\n",
    "def no_negative_values_in_boxes(boxes, video_height, video_width):\n",
    "    \n",
    "    ret = []\n",
    "    for i in range(len(boxes)):\n",
    "        final_box = []\n",
    "        original_box = list(boxes[i][0])\n",
    "        \n",
    "        if original_box[0] < 0:\n",
    "            final_box.append(0)\n",
    "        else:\n",
    "            final_box.append(original_box[0])\n",
    "            \n",
    "            \n",
    "        if original_box[1] < 0:\n",
    "            final_box.append(0)\n",
    "        else:\n",
    "            final_box.append(original_box[1])\n",
    "            \n",
    "        if original_box[2] < 0:\n",
    "            final_box.append(video_width)\n",
    "        else:\n",
    "            final_box.append(original_box[2])\n",
    "            \n",
    "        if original_box[3] < 0:\n",
    "            final_box.append(video_height)\n",
    "        else:\n",
    "            final_box.append(original_box[3])\n",
    "            \n",
    "            \n",
    "        \n",
    "        final_box_tuple = tuple(final_box)\n",
    "        o = [final_box_tuple, boxes[i][1]]\n",
    "        n = tuple(o)\n",
    "        ret.append(n)\n",
    "        \n",
    "    return ret\n",
    "    \n",
    "\n",
    "#clean_faces_pd[\"thresh_boxes_retina\"] = clean_faces_pd[\"boxes_retina\"].apply(lambda x: faces_threshold(x))\n",
    "#clean_faces_pd[\"thresh_boxes_retina\"] = clean_faces_pd[\"thresh_boxes_retina\"].apply(lambda x: maximum_number_of_faces(x))\n",
    "#clean_faces_pd[\"thresh_boxes_retina\"] = clean_faces_pd[\"thresh_boxes_retina\"].apply(lambda x: no_negative_values_in_boxes(x, clean_faces_pd[\"video_height\"], clean_faces_pd[\"video_width\"]))\n",
    "clean_faces_pd[\"faces_max_width\"] = clean_faces_pd[\"thresh_boxes_retina\"].apply(lambda x: faces_max_item(x, 0, 2) - faces_max_item(x, 0, 0)) \n",
    "clean_faces_pd[\"faces_max_height\"] = clean_faces_pd[\"thresh_boxes_retina\"].apply(lambda x: faces_max_item(x, 0, 3) -faces_max_item(x, 0, 1))\n",
    "clean_faces_pd[\"faces_max_conf\"] = clean_faces_pd[\"thresh_boxes_retina\"].apply(lambda x: faces_max_confidence(x))\n",
    "clean_faces_pd[\"faces_min_conf\"] = clean_faces_pd[\"thresh_boxes_retina\"].apply(lambda x: faces_min_confidence(x))\n",
    "clean_faces_pd[\"faces_retina\"] = clean_faces_pd[\"thresh_boxes_retina\"].apply(lambda x: number_of_faces(x))\n",
    "#clean_faces_pd[\"fixed_cropping\"] = clean_faces_pd[\"thresh_boxes_retina\"].apply(lambda x: fixed_cropping(x))"
   ]
  },
  {
   "cell_type": "code",
   "execution_count": 10,
   "metadata": {},
   "outputs": [
    {
     "data": {
      "text/html": [
       "<div>\n",
       "<style scoped>\n",
       "    .dataframe tbody tr th:only-of-type {\n",
       "        vertical-align: middle;\n",
       "    }\n",
       "\n",
       "    .dataframe tbody tr th {\n",
       "        vertical-align: top;\n",
       "    }\n",
       "\n",
       "    .dataframe thead th {\n",
       "        text-align: right;\n",
       "    }\n",
       "</style>\n",
       "<table border=\"1\" class=\"dataframe\">\n",
       "  <thead>\n",
       "    <tr style=\"text-align: right;\">\n",
       "      <th></th>\n",
       "      <th>filename</th>\n",
       "      <th>image</th>\n",
       "      <th>faces_retina</th>\n",
       "      <th>label</th>\n",
       "      <th>split</th>\n",
       "      <th>original</th>\n",
       "      <th>thresh_boxes_retina</th>\n",
       "      <th>block</th>\n",
       "      <th>faces_max_width</th>\n",
       "      <th>faces_max_height</th>\n",
       "      <th>faces_max_conf</th>\n",
       "      <th>faces_min_conf</th>\n",
       "      <th>fixed_cropping</th>\n",
       "    </tr>\n",
       "  </thead>\n",
       "  <tbody>\n",
       "    <tr>\n",
       "      <th>0</th>\n",
       "      <td>vpmyeepbep.mp4</td>\n",
       "      <td>output_0001.png</td>\n",
       "      <td>1</td>\n",
       "      <td>REAL</td>\n",
       "      <td>train</td>\n",
       "      <td>NaN</td>\n",
       "      <td>[((667, 600, 767, 751), 0.9984279870986938)]</td>\n",
       "      <td>0</td>\n",
       "      <td>100</td>\n",
       "      <td>151</td>\n",
       "      <td>0.998428</td>\n",
       "      <td>0.998428</td>\n",
       "      <td>[((542, 450, 892, 900), 0.9984279870986938)]</td>\n",
       "    </tr>\n",
       "    <tr>\n",
       "      <th>1</th>\n",
       "      <td>vpmyeepbep.mp4</td>\n",
       "      <td>output_0002.png</td>\n",
       "      <td>1</td>\n",
       "      <td>REAL</td>\n",
       "      <td>train</td>\n",
       "      <td>NaN</td>\n",
       "      <td>[((667, 600, 767, 751), 0.9984278678894043)]</td>\n",
       "      <td>0</td>\n",
       "      <td>100</td>\n",
       "      <td>151</td>\n",
       "      <td>0.998428</td>\n",
       "      <td>0.998428</td>\n",
       "      <td>[((542, 450, 892, 900), 0.9984278678894043)]</td>\n",
       "    </tr>\n",
       "    <tr>\n",
       "      <th>2</th>\n",
       "      <td>vpmyeepbep.mp4</td>\n",
       "      <td>output_0003.png</td>\n",
       "      <td>1</td>\n",
       "      <td>REAL</td>\n",
       "      <td>train</td>\n",
       "      <td>NaN</td>\n",
       "      <td>[((678, 600, 776, 749), 0.9989476799964905)]</td>\n",
       "      <td>0</td>\n",
       "      <td>98</td>\n",
       "      <td>149</td>\n",
       "      <td>0.998948</td>\n",
       "      <td>0.998948</td>\n",
       "      <td>[((552, 449, 902, 899), 0.9989476799964905)]</td>\n",
       "    </tr>\n",
       "    <tr>\n",
       "      <th>3</th>\n",
       "      <td>vpmyeepbep.mp4</td>\n",
       "      <td>output_0004.png</td>\n",
       "      <td>1</td>\n",
       "      <td>REAL</td>\n",
       "      <td>train</td>\n",
       "      <td>NaN</td>\n",
       "      <td>[((678, 601, 774, 757), 0.9987552165985107)]</td>\n",
       "      <td>0</td>\n",
       "      <td>96</td>\n",
       "      <td>156</td>\n",
       "      <td>0.998755</td>\n",
       "      <td>0.998755</td>\n",
       "      <td>[((551, 454, 901, 904), 0.9987552165985107)]</td>\n",
       "    </tr>\n",
       "    <tr>\n",
       "      <th>4</th>\n",
       "      <td>vpmyeepbep.mp4</td>\n",
       "      <td>output_0005.png</td>\n",
       "      <td>1</td>\n",
       "      <td>REAL</td>\n",
       "      <td>train</td>\n",
       "      <td>NaN</td>\n",
       "      <td>[((659, 607, 759, 754), 0.9983761310577393)]</td>\n",
       "      <td>0</td>\n",
       "      <td>100</td>\n",
       "      <td>147</td>\n",
       "      <td>0.998376</td>\n",
       "      <td>0.998376</td>\n",
       "      <td>[((534, 455, 884, 905), 0.9983761310577393)]</td>\n",
       "    </tr>\n",
       "  </tbody>\n",
       "</table>\n",
       "</div>"
      ],
      "text/plain": [
       "         filename            image  faces_retina label  split original  \\\n",
       "0  vpmyeepbep.mp4  output_0001.png  1             REAL  train  NaN       \n",
       "1  vpmyeepbep.mp4  output_0002.png  1             REAL  train  NaN       \n",
       "2  vpmyeepbep.mp4  output_0003.png  1             REAL  train  NaN       \n",
       "3  vpmyeepbep.mp4  output_0004.png  1             REAL  train  NaN       \n",
       "4  vpmyeepbep.mp4  output_0005.png  1             REAL  train  NaN       \n",
       "\n",
       "                            thresh_boxes_retina  block  faces_max_width  \\\n",
       "0  [((667, 600, 767, 751), 0.9984279870986938)]  0      100               \n",
       "1  [((667, 600, 767, 751), 0.9984278678894043)]  0      100               \n",
       "2  [((678, 600, 776, 749), 0.9989476799964905)]  0      98                \n",
       "3  [((678, 601, 774, 757), 0.9987552165985107)]  0      96                \n",
       "4  [((659, 607, 759, 754), 0.9983761310577393)]  0      100               \n",
       "\n",
       "   faces_max_height  faces_max_conf  faces_min_conf  \\\n",
       "0  151               0.998428        0.998428         \n",
       "1  151               0.998428        0.998428         \n",
       "2  149               0.998948        0.998948         \n",
       "3  156               0.998755        0.998755         \n",
       "4  147               0.998376        0.998376         \n",
       "\n",
       "                                 fixed_cropping  \n",
       "0  [((542, 450, 892, 900), 0.9984279870986938)]  \n",
       "1  [((542, 450, 892, 900), 0.9984278678894043)]  \n",
       "2  [((552, 449, 902, 899), 0.9989476799964905)]  \n",
       "3  [((551, 454, 901, 904), 0.9987552165985107)]  \n",
       "4  [((534, 455, 884, 905), 0.9983761310577393)]  "
      ]
     },
     "execution_count": 10,
     "metadata": {},
     "output_type": "execute_result"
    },
    {
     "name": "stdout",
     "output_type": "stream",
     "text": [
      "time: 38 ms\n"
     ]
    }
   ],
   "source": [
    "clean_faces_pd.head()"
   ]
  },
  {
   "cell_type": "code",
   "execution_count": 11,
   "metadata": {},
   "outputs": [
    {
     "data": {
      "text/html": [
       "<div>\n",
       "<style scoped>\n",
       "    .dataframe tbody tr th:only-of-type {\n",
       "        vertical-align: middle;\n",
       "    }\n",
       "\n",
       "    .dataframe tbody tr th {\n",
       "        vertical-align: top;\n",
       "    }\n",
       "\n",
       "    .dataframe thead th {\n",
       "        text-align: right;\n",
       "    }\n",
       "</style>\n",
       "<table border=\"1\" class=\"dataframe\">\n",
       "  <thead>\n",
       "    <tr style=\"text-align: right;\">\n",
       "      <th></th>\n",
       "      <th>filename</th>\n",
       "      <th>image</th>\n",
       "      <th>label</th>\n",
       "      <th>split</th>\n",
       "      <th>original</th>\n",
       "      <th>thresh_boxes_retina</th>\n",
       "      <th>block</th>\n",
       "      <th>faces_max_width</th>\n",
       "      <th>faces_max_height</th>\n",
       "      <th>faces_max_conf</th>\n",
       "      <th>faces_min_conf</th>\n",
       "      <th>fixed_cropping</th>\n",
       "    </tr>\n",
       "    <tr>\n",
       "      <th>faces_retina</th>\n",
       "      <th></th>\n",
       "      <th></th>\n",
       "      <th></th>\n",
       "      <th></th>\n",
       "      <th></th>\n",
       "      <th></th>\n",
       "      <th></th>\n",
       "      <th></th>\n",
       "      <th></th>\n",
       "      <th></th>\n",
       "      <th></th>\n",
       "      <th></th>\n",
       "    </tr>\n",
       "  </thead>\n",
       "  <tbody>\n",
       "    <tr>\n",
       "      <th>1</th>\n",
       "      <td>3393154</td>\n",
       "      <td>3393154</td>\n",
       "      <td>3393154</td>\n",
       "      <td>3393154</td>\n",
       "      <td>2843572</td>\n",
       "      <td>3393154</td>\n",
       "      <td>3393154</td>\n",
       "      <td>3393154</td>\n",
       "      <td>3393154</td>\n",
       "      <td>3393154</td>\n",
       "      <td>3393154</td>\n",
       "      <td>3393154</td>\n",
       "    </tr>\n",
       "    <tr>\n",
       "      <th>2</th>\n",
       "      <td>367410</td>\n",
       "      <td>367410</td>\n",
       "      <td>367410</td>\n",
       "      <td>367410</td>\n",
       "      <td>316254</td>\n",
       "      <td>367410</td>\n",
       "      <td>367410</td>\n",
       "      <td>367410</td>\n",
       "      <td>367410</td>\n",
       "      <td>367410</td>\n",
       "      <td>367410</td>\n",
       "      <td>367410</td>\n",
       "    </tr>\n",
       "  </tbody>\n",
       "</table>\n",
       "</div>"
      ],
      "text/plain": [
       "              filename    image    label    split  original  \\\n",
       "faces_retina                                                  \n",
       "1             3393154   3393154  3393154  3393154  2843572    \n",
       "2             367410    367410   367410   367410   316254     \n",
       "\n",
       "              thresh_boxes_retina    block  faces_max_width  faces_max_height  \\\n",
       "faces_retina                                                                    \n",
       "1             3393154              3393154  3393154          3393154            \n",
       "2             367410               367410   367410           367410             \n",
       "\n",
       "              faces_max_conf  faces_min_conf  fixed_cropping  \n",
       "faces_retina                                                  \n",
       "1             3393154         3393154         3393154         \n",
       "2             367410          367410          367410          "
      ]
     },
     "execution_count": 11,
     "metadata": {},
     "output_type": "execute_result"
    },
    {
     "name": "stdout",
     "output_type": "stream",
     "text": [
      "time: 2.44 s\n"
     ]
    }
   ],
   "source": [
    "# How many faces did we detect?\n",
    "clean_faces_pd.groupby([\"faces_retina\"]).count()"
   ]
  },
  {
   "cell_type": "code",
   "execution_count": 13,
   "metadata": {},
   "outputs": [
    {
     "name": "stdout",
     "output_type": "stream",
     "text": [
      "time: 1.47 s\n"
     ]
    }
   ],
   "source": [
    "clean_faces_pd[\"faces_retina_avg\"] = clean_faces_pd.groupby(\"filename\")[\"faces_retina\"].transform(np.nanmean)\n",
    "clean_faces_pd[\"faces_retina_median\"] = clean_faces_pd.groupby(\"filename\")[\"faces_retina\"].transform(np.nanmedian)"
   ]
  },
  {
   "cell_type": "code",
   "execution_count": 16,
   "metadata": {},
   "outputs": [
    {
     "data": {
      "image/png": "[encoded data removed]",
      "text/plain": [
       "<Figure size 1584x216 with 2 Axes>"
      ]
     },
     "metadata": {
      "needs_background": "light"
     },
     "output_type": "display_data"
    },
    {
     "name": "stdout",
     "output_type": "stream",
     "text": [
      "time: 21.4 s\n"
     ]
    }
   ],
   "source": [
    "fig, ax = plt.subplots(1, 2, figsize=(22, 3))\n",
    "d = sns.distplot(clean_faces_pd[\"faces_retina_avg\"], kde=True, ax=ax[0])\n",
    "d = sns.distplot(clean_faces_pd[\"faces_retina_median\"], kde=False, ax=ax[1])"
   ]
  },
  {
   "cell_type": "code",
   "execution_count": 17,
   "metadata": {
    "scrolled": false
   },
   "outputs": [
    {
     "name": "stdout",
     "output_type": "stream",
     "text": [
      "Faces stats:\n",
      "       faces_max_width  faces_max_height  faces_min_conf  faces_max_conf\n",
      "count  3.760564e+06     3.760564e+06      3.760564e+06    3.760564e+06  \n",
      "mean   1.446661e+02     1.972416e+02      9.988104e-01    9.990318e-01  \n",
      "std    5.195881e+01     7.236713e+01      2.453771e-03    1.479232e-03  \n",
      "min    1.300000e+01     1.500000e+01      9.300323e-01    9.321471e-01  \n",
      "1%     5.800000e+01     7.700000e+01      9.902693e-01    9.943350e-01  \n",
      "5%     7.400000e+01     9.500000e+01      9.969378e-01    9.976138e-01  \n",
      "10%    8.300000e+01     1.120000e+02      9.980471e-01    9.983839e-01  \n",
      "25%    9.800000e+01     1.330000e+02      9.988985e-01    9.989910e-01  \n",
      "50%    1.410000e+02     1.900000e+02      9.992849e-01    9.993192e-01  \n",
      "75%    1.840000e+02     2.560000e+02      9.995080e-01    9.995266e-01  \n",
      "90%    2.160000e+02     2.930000e+02      9.996539e-01    9.996672e-01  \n",
      "95%    2.320000e+02     3.170000e+02      9.997280e-01    9.997422e-01  \n",
      "99%    2.570000e+02     3.530000e+02      9.998606e-01    9.998755e-01  \n",
      "max    6.080000e+02     7.990000e+02      9.999821e-01    9.999821e-01  \n"
     ]
    },
    {
     "data": {
      "image/png": "[encoded data removed]",
      "text/plain": [
       "<Figure size 1584x216 with 2 Axes>"
      ]
     },
     "metadata": {
      "needs_background": "light"
     },
     "output_type": "display_data"
    },
    {
     "data": {
      "image/png": "[encoded data removed]",
      "text/plain": [
       "<Figure size 1584x216 with 2 Axes>"
      ]
     },
     "metadata": {
      "needs_background": "light"
     },
     "output_type": "display_data"
    },
    {
     "data": {
      "image/png": "[encoded data removed]",
      "text/plain": [
       "<Figure size 1584x216 with 1 Axes>"
      ]
     },
     "metadata": {
      "needs_background": "light"
     },
     "output_type": "display_data"
    },
    {
     "name": "stdout",
     "output_type": "stream",
     "text": [
      "time: 2min 50s\n"
     ]
    }
   ],
   "source": [
    "# If we train a CNN, we will have to define a width/height. 256x256 or 320x320 looks good.\n",
    "print(\"Faces stats:\")\n",
    "print(clean_faces_pd[[\"faces_max_width\", \"faces_max_height\", \"faces_min_conf\", \"faces_max_conf\"]].describe(percentiles=[0.01,0.05, 0.1,0.25,0.5,0.75,0.9,0.95,0.99]))\n",
    "fig, ax = plt.subplots(1, 2, figsize=(22, 3))\n",
    "d = sns.distplot(clean_faces_pd[\"faces_max_width\"], kde=True, ax=ax[0])\n",
    "d = sns.distplot(clean_faces_pd[\"faces_max_height\"], kde=True, ax=ax[1])\n",
    "plt.show()\n",
    "fig, ax = plt.subplots(1, 2, figsize=(22, 3))\n",
    "d = sns.distplot(clean_faces_pd[\"faces_min_conf\"], kde=True, ax=ax[0])\n",
    "d = sns.distplot(clean_faces_pd[\"faces_max_conf\"], kde=True, ax=ax[1])\n",
    "fig, ax = plt.subplots(figsize=(22, 3))\n",
    "d = clean_faces_pd.plot(kind=\"scatter\", x=\"faces_max_width\", y=\"faces_max_conf\", c=\"red\", ax=ax, label=\"faces_max_width\", alpha=0.5)\n",
    "d = clean_faces_pd.plot(kind=\"scatter\", x=\"faces_max_height\", y=\"faces_max_conf\", c=\"blue\", ax=d,  label=\"faces_max_height\", alpha=0.5)\n",
    "d = plt.legend(loc=\"upper right\")"
   ]
  }
 ],
 "metadata": {
  "kernelspec": {
   "display_name": "Python 3",
   "language": "python",
   "name": "python3"
  },
  "language_info": {
   "codemirror_mode": {
    "name": "ipython",
    "version": 3
   },
   "file_extension": ".py",
   "mimetype": "text/x-python",
   "name": "python",
   "nbconvert_exporter": "python",
   "pygments_lexer": "ipython3",
   "version": "3.6.9"
  }
 },
 "nbformat": 4,
 "nbformat_minor": 4
}
